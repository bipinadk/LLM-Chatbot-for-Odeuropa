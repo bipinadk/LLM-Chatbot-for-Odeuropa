{
 "cells": [
  {
   "cell_type": "markdown",
   "id": "1049b2bf-e23c-4a20-b14d-80353f5625ca",
   "metadata": {
    "jp-MarkdownHeadingCollapsed": true
   },
   "source": [
    "#### One time runs"
   ]
  },
  {
   "cell_type": "code",
   "execution_count": 1,
   "id": "8cbb3a76",
   "metadata": {
    "scrolled": true
   },
   "outputs": [
    {
     "name": "stdout",
     "output_type": "stream",
     "text": [
      "Collecting chromadb\n",
      "  Downloading chromadb-0.4.22-py3-none-any.whl.metadata (7.3 kB)\n",
      "Collecting sentence-transformers\n",
      "  Downloading sentence-transformers-2.2.2.tar.gz (85 kB)\n",
      "\u001b[2K     \u001b[90m━━━━━━━━━━━━━━━━━━━━━━━━━━━━━━━━━━━━━━━━\u001b[0m \u001b[32m86.0/86.0 kB\u001b[0m \u001b[31m1.4 MB/s\u001b[0m eta \u001b[36m0:00:00\u001b[0ma \u001b[36m0:00:01\u001b[0m\n",
      "\u001b[?25h  Preparing metadata (setup.py) ... \u001b[?25ldone\n",
      "\u001b[?25hCollecting langchain\n",
      "  Downloading langchain-0.1.4-py3-none-any.whl.metadata (13 kB)\n",
      "Collecting openai\n",
      "  Downloading openai-1.10.0-py3-none-any.whl.metadata (18 kB)\n",
      "Collecting build>=1.0.3 (from chromadb)\n",
      "  Downloading build-1.0.3-py3-none-any.whl.metadata (4.2 kB)\n",
      "Requirement already satisfied: requests>=2.28 in /home/adhikari/.conda/envs/semproc/lib/python3.10/site-packages (from chromadb) (2.31.0)\n",
      "Collecting pydantic>=1.9 (from chromadb)\n",
      "  Downloading pydantic-2.5.3-py3-none-any.whl.metadata (65 kB)\n",
      "\u001b[2K     \u001b[90m━━━━━━━━━━━━━━━━━━━━━━━━━━━━━━━━━━━━━━━━\u001b[0m \u001b[32m65.6/65.6 kB\u001b[0m \u001b[31m2.4 MB/s\u001b[0m eta \u001b[36m0:00:00\u001b[0m\n",
      "\u001b[?25hCollecting chroma-hnswlib==0.7.3 (from chromadb)\n",
      "  Downloading chroma_hnswlib-0.7.3-cp310-cp310-manylinux_2_17_x86_64.manylinux2014_x86_64.whl.metadata (252 bytes)\n",
      "Collecting fastapi>=0.95.2 (from chromadb)\n",
      "  Downloading fastapi-0.109.0-py3-none-any.whl.metadata (24 kB)\n",
      "Collecting uvicorn>=0.18.3 (from uvicorn[standard]>=0.18.3->chromadb)\n",
      "  Downloading uvicorn-0.27.0-py3-none-any.whl.metadata (6.4 kB)\n",
      "Collecting numpy>=1.22.5 (from chromadb)\n",
      "  Downloading numpy-1.26.3-cp310-cp310-manylinux_2_17_x86_64.manylinux2014_x86_64.whl.metadata (61 kB)\n",
      "\u001b[2K     \u001b[90m━━━━━━━━━━━━━━━━━━━━━━━━━━━━━━━━━━━━━━━━\u001b[0m \u001b[32m61.2/61.2 kB\u001b[0m \u001b[31m2.1 MB/s\u001b[0m eta \u001b[36m0:00:00\u001b[0m\n",
      "\u001b[?25hCollecting posthog>=2.4.0 (from chromadb)\n",
      "  Downloading posthog-3.3.2-py2.py3-none-any.whl.metadata (2.0 kB)\n",
      "Requirement already satisfied: typing-extensions>=4.5.0 in /home/adhikari/.conda/envs/semproc/lib/python3.10/site-packages (from chromadb) (4.9.0)\n",
      "Collecting pulsar-client>=3.1.0 (from chromadb)\n",
      "  Downloading pulsar_client-3.4.0-cp310-cp310-manylinux_2_17_x86_64.manylinux2014_x86_64.whl.metadata (1.0 kB)\n",
      "Collecting onnxruntime>=1.14.1 (from chromadb)\n",
      "  Downloading onnxruntime-1.16.3-cp310-cp310-manylinux_2_17_x86_64.manylinux2014_x86_64.whl.metadata (4.3 kB)\n",
      "Collecting opentelemetry-api>=1.2.0 (from chromadb)\n",
      "  Downloading opentelemetry_api-1.22.0-py3-none-any.whl.metadata (1.4 kB)\n",
      "Collecting opentelemetry-exporter-otlp-proto-grpc>=1.2.0 (from chromadb)\n",
      "  Downloading opentelemetry_exporter_otlp_proto_grpc-1.22.0-py3-none-any.whl.metadata (2.4 kB)\n",
      "Collecting opentelemetry-instrumentation-fastapi>=0.41b0 (from chromadb)\n",
      "  Downloading opentelemetry_instrumentation_fastapi-0.43b0-py3-none-any.whl.metadata (2.3 kB)\n",
      "Collecting opentelemetry-sdk>=1.2.0 (from chromadb)\n",
      "  Downloading opentelemetry_sdk-1.22.0-py3-none-any.whl.metadata (1.5 kB)\n",
      "Collecting tokenizers>=0.13.2 (from chromadb)\n",
      "  Downloading tokenizers-0.15.1-cp310-cp310-manylinux_2_17_x86_64.manylinux2014_x86_64.whl.metadata (6.7 kB)\n",
      "Collecting pypika>=0.48.9 (from chromadb)\n",
      "  Downloading PyPika-0.48.9.tar.gz (67 kB)\n",
      "\u001b[2K     \u001b[90m━━━━━━━━━━━━━━━━━━━━━━━━━━━━━━━━━━━━━━━━\u001b[0m \u001b[32m67.3/67.3 kB\u001b[0m \u001b[31m2.8 MB/s\u001b[0m eta \u001b[36m0:00:00\u001b[0m\n",
      "\u001b[?25h  Installing build dependencies ... \u001b[?25ldone\n",
      "\u001b[?25h  Getting requirements to build wheel ... \u001b[?25ldone\n",
      "\u001b[?25h  Preparing metadata (pyproject.toml) ... \u001b[?25ldone\n",
      "\u001b[?25hCollecting tqdm>=4.65.0 (from chromadb)\n",
      "  Downloading tqdm-4.66.1-py3-none-any.whl.metadata (57 kB)\n",
      "\u001b[2K     \u001b[90m━━━━━━━━━━━━━━━━━━━━━━━━━━━━━━━━━━━━━━━━\u001b[0m \u001b[32m57.6/57.6 kB\u001b[0m \u001b[31m2.6 MB/s\u001b[0m eta \u001b[36m0:00:00\u001b[0m\n",
      "\u001b[?25hRequirement already satisfied: overrides>=7.3.1 in /home/adhikari/.conda/envs/semproc/lib/python3.10/site-packages (from chromadb) (7.4.0)\n",
      "Collecting importlib-resources (from chromadb)\n",
      "  Downloading importlib_resources-6.1.1-py3-none-any.whl.metadata (4.1 kB)\n",
      "Collecting grpcio>=1.58.0 (from chromadb)\n",
      "  Downloading grpcio-1.60.0-cp310-cp310-manylinux_2_17_x86_64.manylinux2014_x86_64.whl.metadata (4.0 kB)\n",
      "Collecting bcrypt>=4.0.1 (from chromadb)\n",
      "  Downloading bcrypt-4.1.2-cp39-abi3-manylinux_2_28_x86_64.whl.metadata (9.5 kB)\n",
      "Collecting typer>=0.9.0 (from chromadb)\n",
      "  Downloading typer-0.9.0-py3-none-any.whl (45 kB)\n",
      "\u001b[2K     \u001b[90m━━━━━━━━━━━━━━━━━━━━━━━━━━━━━━━━━━━━━━━━\u001b[0m \u001b[32m45.9/45.9 kB\u001b[0m \u001b[31m1.6 MB/s\u001b[0m eta \u001b[36m0:00:00\u001b[0m\n",
      "\u001b[?25hCollecting kubernetes>=28.1.0 (from chromadb)\n",
      "  Downloading kubernetes-29.0.0-py2.py3-none-any.whl.metadata (1.5 kB)\n",
      "Collecting tenacity>=8.2.3 (from chromadb)\n",
      "  Downloading tenacity-8.2.3-py3-none-any.whl.metadata (1.0 kB)\n",
      "Requirement already satisfied: PyYAML>=6.0.0 in /home/adhikari/.conda/envs/semproc/lib/python3.10/site-packages (from chromadb) (6.0.1)\n",
      "Collecting mmh3>=4.0.1 (from chromadb)\n",
      "  Downloading mmh3-4.1.0-cp310-cp310-manylinux_2_5_x86_64.manylinux1_x86_64.manylinux_2_17_x86_64.manylinux2014_x86_64.whl.metadata (13 kB)\n",
      "Collecting transformers<5.0.0,>=4.6.0 (from sentence-transformers)\n",
      "  Downloading transformers-4.37.1-py3-none-any.whl.metadata (129 kB)\n",
      "\u001b[2K     \u001b[90m━━━━━━━━━━━━━━━━━━━━━━━━━━━━━━━━━━━━━━━\u001b[0m \u001b[32m129.4/129.4 kB\u001b[0m \u001b[31m4.1 MB/s\u001b[0m eta \u001b[36m0:00:00\u001b[0m\n",
      "\u001b[?25hRequirement already satisfied: torch>=1.6.0 in /home/adhikari/.conda/envs/semproc/lib/python3.10/site-packages (from sentence-transformers) (2.1.2+cu118)\n",
      "Collecting torchvision (from sentence-transformers)\n",
      "  Downloading torchvision-0.16.2-cp310-cp310-manylinux1_x86_64.whl.metadata (6.6 kB)\n",
      "Collecting scikit-learn (from sentence-transformers)\n",
      "  Downloading scikit_learn-1.4.0-1-cp310-cp310-manylinux_2_17_x86_64.manylinux2014_x86_64.whl.metadata (11 kB)\n",
      "Collecting scipy (from sentence-transformers)\n",
      "  Downloading scipy-1.12.0-cp310-cp310-manylinux_2_17_x86_64.manylinux2014_x86_64.whl.metadata (60 kB)\n",
      "\u001b[2K     \u001b[90m━━━━━━━━━━━━━━━━━━━━━━━━━━━━━━━━━━━━━━━━\u001b[0m \u001b[32m60.4/60.4 kB\u001b[0m \u001b[31m2.8 MB/s\u001b[0m eta \u001b[36m0:00:00\u001b[0m\n",
      "\u001b[?25hCollecting nltk (from sentence-transformers)\n",
      "  Downloading nltk-3.8.1-py3-none-any.whl (1.5 MB)\n",
      "\u001b[2K     \u001b[90m━━━━━━━━━━━━━━━━━━━━━━━━━━━━━━━━━━━━━━━━\u001b[0m \u001b[32m1.5/1.5 MB\u001b[0m \u001b[31m16.0 MB/s\u001b[0m eta \u001b[36m0:00:00\u001b[0m00:01\u001b[0m00:01\u001b[0m\n",
      "\u001b[?25hCollecting sentencepiece (from sentence-transformers)\n",
      "  Downloading sentencepiece-0.1.99-cp310-cp310-manylinux_2_17_x86_64.manylinux2014_x86_64.whl (1.3 MB)\n",
      "\u001b[2K     \u001b[90m━━━━━━━━━━━━━━━━━━━━━━━━━━━━━━━━━━━━━━━━\u001b[0m \u001b[32m1.3/1.3 MB\u001b[0m \u001b[31m29.1 MB/s\u001b[0m eta \u001b[36m0:00:00\u001b[0m:00:01\u001b[0m\n",
      "\u001b[?25hCollecting huggingface-hub>=0.4.0 (from sentence-transformers)\n",
      "  Downloading huggingface_hub-0.20.3-py3-none-any.whl.metadata (12 kB)\n",
      "Collecting SQLAlchemy<3,>=1.4 (from langchain)\n",
      "  Downloading SQLAlchemy-2.0.25-cp310-cp310-manylinux_2_17_x86_64.manylinux2014_x86_64.whl.metadata (9.6 kB)\n",
      "Collecting aiohttp<4.0.0,>=3.8.3 (from langchain)\n",
      "  Downloading aiohttp-3.9.1-cp310-cp310-manylinux_2_17_x86_64.manylinux2014_x86_64.whl.metadata (7.4 kB)\n",
      "Collecting async-timeout<5.0.0,>=4.0.0 (from langchain)\n",
      "  Downloading async_timeout-4.0.3-py3-none-any.whl.metadata (4.2 kB)\n",
      "Collecting dataclasses-json<0.7,>=0.5.7 (from langchain)\n",
      "  Downloading dataclasses_json-0.6.3-py3-none-any.whl.metadata (25 kB)\n",
      "Collecting jsonpatch<2.0,>=1.33 (from langchain)\n",
      "  Downloading jsonpatch-1.33-py2.py3-none-any.whl.metadata (3.0 kB)\n",
      "Collecting langchain-community<0.1,>=0.0.14 (from langchain)\n",
      "  Downloading langchain_community-0.0.16-py3-none-any.whl.metadata (7.8 kB)\n",
      "Collecting langchain-core<0.2,>=0.1.16 (from langchain)\n",
      "  Downloading langchain_core-0.1.16-py3-none-any.whl.metadata (6.0 kB)\n",
      "Collecting langsmith<0.1,>=0.0.83 (from langchain)\n",
      "  Downloading langsmith-0.0.83-py3-none-any.whl.metadata (10 kB)\n",
      "Requirement already satisfied: anyio<5,>=3.5.0 in /home/adhikari/.conda/envs/semproc/lib/python3.10/site-packages (from openai) (4.2.0)\n",
      "Collecting distro<2,>=1.7.0 (from openai)\n",
      "  Downloading distro-1.9.0-py3-none-any.whl.metadata (6.8 kB)\n",
      "Collecting httpx<1,>=0.23.0 (from openai)\n",
      "  Downloading httpx-0.26.0-py3-none-any.whl.metadata (7.6 kB)\n",
      "Requirement already satisfied: sniffio in /home/adhikari/.conda/envs/semproc/lib/python3.10/site-packages (from openai) (1.3.0)\n",
      "Requirement already satisfied: attrs>=17.3.0 in /home/adhikari/.conda/envs/semproc/lib/python3.10/site-packages (from aiohttp<4.0.0,>=3.8.3->langchain) (23.1.0)\n",
      "Collecting multidict<7.0,>=4.5 (from aiohttp<4.0.0,>=3.8.3->langchain)\n",
      "  Downloading multidict-6.0.4-cp310-cp310-manylinux_2_17_x86_64.manylinux2014_x86_64.whl (114 kB)\n",
      "\u001b[2K     \u001b[90m━━━━━━━━━━━━━━━━━━━━━━━━━━━━━━━━━━━━━━━\u001b[0m \u001b[32m114.5/114.5 kB\u001b[0m \u001b[31m5.4 MB/s\u001b[0m eta \u001b[36m0:00:00\u001b[0m\n",
      "\u001b[?25hCollecting yarl<2.0,>=1.0 (from aiohttp<4.0.0,>=3.8.3->langchain)\n",
      "  Downloading yarl-1.9.4-cp310-cp310-manylinux_2_17_x86_64.manylinux2014_x86_64.whl.metadata (31 kB)\n",
      "Collecting frozenlist>=1.1.1 (from aiohttp<4.0.0,>=3.8.3->langchain)\n",
      "  Downloading frozenlist-1.4.1-cp310-cp310-manylinux_2_5_x86_64.manylinux1_x86_64.manylinux_2_17_x86_64.manylinux2014_x86_64.whl.metadata (12 kB)\n",
      "Collecting aiosignal>=1.1.2 (from aiohttp<4.0.0,>=3.8.3->langchain)\n",
      "  Downloading aiosignal-1.3.1-py3-none-any.whl (7.6 kB)\n",
      "Requirement already satisfied: idna>=2.8 in /home/adhikari/.conda/envs/semproc/lib/python3.10/site-packages (from anyio<5,>=3.5.0->openai) (3.4)\n",
      "Requirement already satisfied: exceptiongroup>=1.0.2 in /home/adhikari/.conda/envs/semproc/lib/python3.10/site-packages (from anyio<5,>=3.5.0->openai) (1.2.0)\n",
      "Requirement already satisfied: packaging>=19.0 in /home/adhikari/.conda/envs/semproc/lib/python3.10/site-packages (from build>=1.0.3->chromadb) (23.1)\n",
      "Collecting pyproject_hooks (from build>=1.0.3->chromadb)\n",
      "  Downloading pyproject_hooks-1.0.0-py3-none-any.whl (9.3 kB)\n",
      "Requirement already satisfied: tomli>=1.1.0 in /home/adhikari/.conda/envs/semproc/lib/python3.10/site-packages (from build>=1.0.3->chromadb) (2.0.1)\n",
      "Collecting marshmallow<4.0.0,>=3.18.0 (from dataclasses-json<0.7,>=0.5.7->langchain)\n",
      "  Downloading marshmallow-3.20.2-py3-none-any.whl.metadata (7.5 kB)\n",
      "Collecting typing-inspect<1,>=0.4.0 (from dataclasses-json<0.7,>=0.5.7->langchain)\n",
      "  Downloading typing_inspect-0.9.0-py3-none-any.whl.metadata (1.5 kB)\n",
      "Collecting starlette<0.36.0,>=0.35.0 (from fastapi>=0.95.2->chromadb)\n",
      "  Downloading starlette-0.35.1-py3-none-any.whl.metadata (5.8 kB)\n",
      "Requirement already satisfied: certifi in /home/adhikari/.conda/envs/semproc/lib/python3.10/site-packages (from httpx<1,>=0.23.0->openai) (2023.11.17)\n",
      "Collecting httpcore==1.* (from httpx<1,>=0.23.0->openai)\n",
      "  Downloading httpcore-1.0.2-py3-none-any.whl.metadata (20 kB)\n",
      "Collecting h11<0.15,>=0.13 (from httpcore==1.*->httpx<1,>=0.23.0->openai)\n",
      "  Downloading h11-0.14.0-py3-none-any.whl (58 kB)\n",
      "\u001b[2K     \u001b[90m━━━━━━━━━━━━━━━━━━━━━━━━━━━━━━━━━━━━━━━━\u001b[0m \u001b[32m58.3/58.3 kB\u001b[0m \u001b[31m1.8 MB/s\u001b[0m eta \u001b[36m0:00:00\u001b[0m\n",
      "\u001b[?25hRequirement already satisfied: filelock in /home/adhikari/.conda/envs/semproc/lib/python3.10/site-packages (from huggingface-hub>=0.4.0->sentence-transformers) (3.13.1)\n",
      "Requirement already satisfied: fsspec>=2023.5.0 in /home/adhikari/.conda/envs/semproc/lib/python3.10/site-packages (from huggingface-hub>=0.4.0->sentence-transformers) (2023.12.2)\n",
      "Collecting jsonpointer>=1.9 (from jsonpatch<2.0,>=1.33->langchain)\n",
      "  Downloading jsonpointer-2.4-py2.py3-none-any.whl.metadata (2.5 kB)\n",
      "Requirement already satisfied: six>=1.9.0 in /home/adhikari/.conda/envs/semproc/lib/python3.10/site-packages (from kubernetes>=28.1.0->chromadb) (1.16.0)\n",
      "Requirement already satisfied: python-dateutil>=2.5.3 in /home/adhikari/.conda/envs/semproc/lib/python3.10/site-packages (from kubernetes>=28.1.0->chromadb) (2.8.2)\n",
      "Collecting google-auth>=1.0.1 (from kubernetes>=28.1.0->chromadb)\n",
      "  Downloading google_auth-2.27.0-py2.py3-none-any.whl.metadata (4.7 kB)\n",
      "Requirement already satisfied: websocket-client!=0.40.0,!=0.41.*,!=0.42.*,>=0.32.0 in /home/adhikari/.conda/envs/semproc/lib/python3.10/site-packages (from kubernetes>=28.1.0->chromadb) (0.58.0)\n",
      "Collecting requests-oauthlib (from kubernetes>=28.1.0->chromadb)\n",
      "  Downloading requests_oauthlib-1.3.1-py2.py3-none-any.whl (23 kB)\n",
      "Collecting oauthlib>=3.2.2 (from kubernetes>=28.1.0->chromadb)\n",
      "  Downloading oauthlib-3.2.2-py3-none-any.whl (151 kB)\n",
      "\u001b[2K     \u001b[90m━━━━━━━━━━━━━━━━━━━━━━━━━━━━━━━━━━━━━━━\u001b[0m \u001b[32m151.7/151.7 kB\u001b[0m \u001b[31m5.2 MB/s\u001b[0m eta \u001b[36m0:00:00\u001b[0m\n",
      "\u001b[?25hRequirement already satisfied: urllib3>=1.24.2 in /home/adhikari/.conda/envs/semproc/lib/python3.10/site-packages (from kubernetes>=28.1.0->chromadb) (1.26.18)\n",
      "Collecting packaging>=19.0 (from build>=1.0.3->chromadb)\n",
      "  Downloading packaging-23.2-py3-none-any.whl.metadata (3.2 kB)\n",
      "Collecting coloredlogs (from onnxruntime>=1.14.1->chromadb)\n",
      "  Downloading coloredlogs-15.0.1-py2.py3-none-any.whl (46 kB)\n",
      "\u001b[2K     \u001b[90m━━━━━━━━━━━━━━━━━━━━━━━━━━━━━━━━━━━━━━━━\u001b[0m \u001b[32m46.0/46.0 kB\u001b[0m \u001b[31m1.7 MB/s\u001b[0m eta \u001b[36m0:00:00\u001b[0m\n",
      "\u001b[?25hCollecting flatbuffers (from onnxruntime>=1.14.1->chromadb)\n",
      "  Downloading flatbuffers-23.5.26-py2.py3-none-any.whl.metadata (850 bytes)\n",
      "Collecting protobuf (from onnxruntime>=1.14.1->chromadb)\n",
      "  Downloading protobuf-4.25.2-cp37-abi3-manylinux2014_x86_64.whl.metadata (541 bytes)\n",
      "Requirement already satisfied: sympy in /home/adhikari/.conda/envs/semproc/lib/python3.10/site-packages (from onnxruntime>=1.14.1->chromadb) (1.12)\n",
      "Collecting deprecated>=1.2.6 (from opentelemetry-api>=1.2.0->chromadb)\n",
      "  Downloading Deprecated-1.2.14-py2.py3-none-any.whl.metadata (5.4 kB)\n",
      "Collecting importlib-metadata<7.0,>=6.0 (from opentelemetry-api>=1.2.0->chromadb)\n",
      "  Downloading importlib_metadata-6.11.0-py3-none-any.whl.metadata (4.9 kB)\n",
      "Collecting backoff<3.0.0,>=1.10.0 (from opentelemetry-exporter-otlp-proto-grpc>=1.2.0->chromadb)\n",
      "  Downloading backoff-2.2.1-py3-none-any.whl (15 kB)\n",
      "Collecting googleapis-common-protos~=1.52 (from opentelemetry-exporter-otlp-proto-grpc>=1.2.0->chromadb)\n",
      "  Downloading googleapis_common_protos-1.62.0-py2.py3-none-any.whl.metadata (1.5 kB)\n",
      "Collecting opentelemetry-exporter-otlp-proto-common==1.22.0 (from opentelemetry-exporter-otlp-proto-grpc>=1.2.0->chromadb)\n",
      "  Downloading opentelemetry_exporter_otlp_proto_common-1.22.0-py3-none-any.whl.metadata (1.9 kB)\n",
      "Collecting opentelemetry-proto==1.22.0 (from opentelemetry-exporter-otlp-proto-grpc>=1.2.0->chromadb)\n",
      "  Downloading opentelemetry_proto-1.22.0-py3-none-any.whl.metadata (2.3 kB)\n",
      "Collecting opentelemetry-instrumentation-asgi==0.43b0 (from opentelemetry-instrumentation-fastapi>=0.41b0->chromadb)\n",
      "  Downloading opentelemetry_instrumentation_asgi-0.43b0-py3-none-any.whl.metadata (2.1 kB)\n",
      "Collecting opentelemetry-instrumentation==0.43b0 (from opentelemetry-instrumentation-fastapi>=0.41b0->chromadb)\n",
      "  Downloading opentelemetry_instrumentation-0.43b0-py3-none-any.whl.metadata (5.9 kB)\n",
      "Collecting opentelemetry-semantic-conventions==0.43b0 (from opentelemetry-instrumentation-fastapi>=0.41b0->chromadb)\n",
      "  Downloading opentelemetry_semantic_conventions-0.43b0-py3-none-any.whl.metadata (2.3 kB)\n",
      "Collecting opentelemetry-util-http==0.43b0 (from opentelemetry-instrumentation-fastapi>=0.41b0->chromadb)\n",
      "  Downloading opentelemetry_util_http-0.43b0-py3-none-any.whl.metadata (2.5 kB)\n",
      "Requirement already satisfied: setuptools>=16.0 in /home/adhikari/.conda/envs/semproc/lib/python3.10/site-packages (from opentelemetry-instrumentation==0.43b0->opentelemetry-instrumentation-fastapi>=0.41b0->chromadb) (68.2.2)\n",
      "Collecting wrapt<2.0.0,>=1.0.0 (from opentelemetry-instrumentation==0.43b0->opentelemetry-instrumentation-fastapi>=0.41b0->chromadb)\n",
      "  Downloading wrapt-1.16.0-cp310-cp310-manylinux_2_5_x86_64.manylinux1_x86_64.manylinux_2_17_x86_64.manylinux2014_x86_64.whl.metadata (6.6 kB)\n",
      "Collecting asgiref~=3.0 (from opentelemetry-instrumentation-asgi==0.43b0->opentelemetry-instrumentation-fastapi>=0.41b0->chromadb)\n",
      "  Downloading asgiref-3.7.2-py3-none-any.whl.metadata (9.2 kB)\n",
      "Collecting monotonic>=1.5 (from posthog>=2.4.0->chromadb)\n",
      "  Downloading monotonic-1.6-py2.py3-none-any.whl (8.2 kB)\n",
      "Collecting annotated-types>=0.4.0 (from pydantic>=1.9->chromadb)\n",
      "  Downloading annotated_types-0.6.0-py3-none-any.whl.metadata (12 kB)\n",
      "Collecting pydantic-core==2.14.6 (from pydantic>=1.9->chromadb)\n",
      "  Downloading pydantic_core-2.14.6-cp310-cp310-manylinux_2_17_x86_64.manylinux2014_x86_64.whl.metadata (6.5 kB)\n",
      "Requirement already satisfied: charset-normalizer<4,>=2 in /home/adhikari/.conda/envs/semproc/lib/python3.10/site-packages (from requests>=2.28->chromadb) (2.0.4)\n",
      "Collecting greenlet!=0.4.17 (from SQLAlchemy<3,>=1.4->langchain)\n",
      "  Downloading greenlet-3.0.3-cp310-cp310-manylinux_2_24_x86_64.manylinux_2_28_x86_64.whl.metadata (3.8 kB)\n",
      "Requirement already satisfied: networkx in /home/adhikari/.conda/envs/semproc/lib/python3.10/site-packages (from torch>=1.6.0->sentence-transformers) (3.2.1)\n",
      "Requirement already satisfied: jinja2 in /home/adhikari/.conda/envs/semproc/lib/python3.10/site-packages (from torch>=1.6.0->sentence-transformers) (3.1.2)\n",
      "Requirement already satisfied: triton==2.1.0 in /home/adhikari/.conda/envs/semproc/lib/python3.10/site-packages (from torch>=1.6.0->sentence-transformers) (2.1.0)\n",
      "Collecting regex!=2019.12.17 (from transformers<5.0.0,>=4.6.0->sentence-transformers)\n",
      "  Downloading regex-2023.12.25-cp310-cp310-manylinux_2_17_x86_64.manylinux2014_x86_64.whl.metadata (40 kB)\n",
      "\u001b[2K     \u001b[90m━━━━━━━━━━━━━━━━━━━━━━━━━━━━━━━━━━━━━━━━\u001b[0m \u001b[32m40.9/40.9 kB\u001b[0m \u001b[31m1.3 MB/s\u001b[0m eta \u001b[36m0:00:00\u001b[0m\n",
      "\u001b[?25hCollecting safetensors>=0.3.1 (from transformers<5.0.0,>=4.6.0->sentence-transformers)\n",
      "  Downloading safetensors-0.4.2-cp310-cp310-manylinux_2_17_x86_64.manylinux2014_x86_64.whl.metadata (3.8 kB)\n",
      "Collecting click<9.0.0,>=7.1.1 (from typer>=0.9.0->chromadb)\n",
      "  Downloading click-8.1.7-py3-none-any.whl.metadata (3.0 kB)\n",
      "Collecting httptools>=0.5.0 (from uvicorn[standard]>=0.18.3->chromadb)\n",
      "  Downloading httptools-0.6.1-cp310-cp310-manylinux_2_5_x86_64.manylinux1_x86_64.manylinux_2_17_x86_64.manylinux2014_x86_64.whl.metadata (3.6 kB)\n",
      "Collecting python-dotenv>=0.13 (from uvicorn[standard]>=0.18.3->chromadb)\n",
      "  Downloading python_dotenv-1.0.1-py3-none-any.whl.metadata (23 kB)\n",
      "Collecting uvloop!=0.15.0,!=0.15.1,>=0.14.0 (from uvicorn[standard]>=0.18.3->chromadb)\n",
      "  Downloading uvloop-0.19.0-cp310-cp310-manylinux_2_17_x86_64.manylinux2014_x86_64.whl.metadata (4.9 kB)\n",
      "Collecting watchfiles>=0.13 (from uvicorn[standard]>=0.18.3->chromadb)\n",
      "  Downloading watchfiles-0.21.0-cp310-cp310-manylinux_2_17_x86_64.manylinux2014_x86_64.whl.metadata (4.9 kB)\n",
      "Collecting websockets>=10.4 (from uvicorn[standard]>=0.18.3->chromadb)\n",
      "  Downloading websockets-12.0-cp310-cp310-manylinux_2_5_x86_64.manylinux1_x86_64.manylinux_2_17_x86_64.manylinux2014_x86_64.whl.metadata (6.6 kB)\n",
      "Collecting joblib (from nltk->sentence-transformers)\n",
      "  Downloading joblib-1.3.2-py3-none-any.whl.metadata (5.4 kB)\n",
      "Collecting threadpoolctl>=2.0.0 (from scikit-learn->sentence-transformers)\n",
      "  Downloading threadpoolctl-3.2.0-py3-none-any.whl.metadata (10.0 kB)\n",
      "Collecting pillow!=8.3.*,>=5.3.0 (from torchvision->sentence-transformers)\n",
      "  Downloading pillow-10.2.0-cp310-cp310-manylinux_2_28_x86_64.whl.metadata (9.7 kB)\n",
      "Collecting cachetools<6.0,>=2.0.0 (from google-auth>=1.0.1->kubernetes>=28.1.0->chromadb)\n",
      "  Downloading cachetools-5.3.2-py3-none-any.whl.metadata (5.2 kB)\n",
      "Collecting pyasn1-modules>=0.2.1 (from google-auth>=1.0.1->kubernetes>=28.1.0->chromadb)\n",
      "  Downloading pyasn1_modules-0.3.0-py2.py3-none-any.whl (181 kB)\n",
      "\u001b[2K     \u001b[90m━━━━━━━━━━━━━━━━━━━━━━━━━━━━━━━━━━━━━━━\u001b[0m \u001b[32m181.3/181.3 kB\u001b[0m \u001b[31m6.8 MB/s\u001b[0m eta \u001b[36m0:00:00\u001b[0m\n",
      "\u001b[?25hCollecting rsa<5,>=3.1.4 (from google-auth>=1.0.1->kubernetes>=28.1.0->chromadb)\n",
      "  Downloading rsa-4.9-py3-none-any.whl (34 kB)\n",
      "Collecting zipp>=0.5 (from importlib-metadata<7.0,>=6.0->opentelemetry-api>=1.2.0->chromadb)\n",
      "  Downloading zipp-3.17.0-py3-none-any.whl.metadata (3.7 kB)\n",
      "Collecting mypy-extensions>=0.3.0 (from typing-inspect<1,>=0.4.0->dataclasses-json<0.7,>=0.5.7->langchain)\n",
      "  Downloading mypy_extensions-1.0.0-py3-none-any.whl (4.7 kB)\n",
      "Collecting humanfriendly>=9.1 (from coloredlogs->onnxruntime>=1.14.1->chromadb)\n",
      "  Downloading humanfriendly-10.0-py2.py3-none-any.whl (86 kB)\n",
      "\u001b[2K     \u001b[90m━━━━━━━━━━━━━━━━━━━━━━━━━━━━━━━━━━━━━━━\u001b[0m \u001b[32m86.8/86.8 kB\u001b[0m \u001b[31m380.6 kB/s\u001b[0m eta \u001b[36m0:00:00\u001b[0ma \u001b[36m0:00:01\u001b[0m\n",
      "\u001b[?25hRequirement already satisfied: MarkupSafe>=2.0 in /home/adhikari/.conda/envs/semproc/lib/python3.10/site-packages (from jinja2->torch>=1.6.0->sentence-transformers) (2.1.3)\n",
      "Requirement already satisfied: mpmath>=0.19 in /home/adhikari/.conda/envs/semproc/lib/python3.10/site-packages (from sympy->onnxruntime>=1.14.1->chromadb) (1.3.0)\n",
      "Collecting pyasn1<0.6.0,>=0.4.6 (from pyasn1-modules>=0.2.1->google-auth>=1.0.1->kubernetes>=28.1.0->chromadb)\n",
      "  Downloading pyasn1-0.5.1-py2.py3-none-any.whl.metadata (8.6 kB)\n",
      "Downloading chromadb-0.4.22-py3-none-any.whl (509 kB)\n",
      "\u001b[2K   \u001b[90m━━━━━━━━━━━━━━━━━━━━━━━━━━━━━━━━━━━━━━━━\u001b[0m \u001b[32m509.0/509.0 kB\u001b[0m \u001b[31m18.9 MB/s\u001b[0m eta \u001b[36m0:00:00\u001b[0m\n",
      "\u001b[?25hDownloading chroma_hnswlib-0.7.3-cp310-cp310-manylinux_2_17_x86_64.manylinux2014_x86_64.whl (2.4 MB)\n",
      "\u001b[2K   \u001b[90m━━━━━━━━━━━━━━━━━━━━━━━━━━━━━━━━━━━━━━━━\u001b[0m \u001b[32m2.4/2.4 MB\u001b[0m \u001b[31m7.0 MB/s\u001b[0m eta \u001b[36m0:00:00\u001b[0m0:00:01\u001b[0m\n",
      "\u001b[?25hDownloading langchain-0.1.4-py3-none-any.whl (803 kB)\n",
      "\u001b[2K   \u001b[90m━━━━━━━━━━━━━━━━━━━━━━━━━━━━━━━━━━━━━━━━\u001b[0m \u001b[32m803.6/803.6 kB\u001b[0m \u001b[31m3.6 MB/s\u001b[0m eta \u001b[36m0:00:00\u001b[0m:00:01\u001b[0m\n",
      "\u001b[?25hDownloading openai-1.10.0-py3-none-any.whl (225 kB)\n",
      "\u001b[2K   \u001b[90m━━━━━━━━━━━━━━━━━━━━━━━━━━━━━━━━━━━━━━━\u001b[0m \u001b[32m225.1/225.1 kB\u001b[0m \u001b[31m580.5 kB/s\u001b[0m eta \u001b[36m0:00:00\u001b[0ma \u001b[36m0:00:01\u001b[0m\n",
      "\u001b[?25hDownloading aiohttp-3.9.1-cp310-cp310-manylinux_2_17_x86_64.manylinux2014_x86_64.whl (1.2 MB)\n",
      "\u001b[2K   \u001b[90m━━━━━━━━━━━━━━━━━━━━━━━━━━━━━━━━━━━━━━━━\u001b[0m \u001b[32m1.2/1.2 MB\u001b[0m \u001b[31m1.3 MB/s\u001b[0m eta \u001b[36m0:00:00\u001b[0m0:00:01\u001b[0m\n",
      "\u001b[?25hDownloading async_timeout-4.0.3-py3-none-any.whl (5.7 kB)\n",
      "Downloading bcrypt-4.1.2-cp39-abi3-manylinux_2_28_x86_64.whl (698 kB)\n",
      "\u001b[2K   \u001b[90m━━━━━━━━━━━━━━━━━━━━━━━━━━━━━━━━━━━━━━━\u001b[0m \u001b[32m698.9/698.9 kB\u001b[0m \u001b[31m502.2 kB/s\u001b[0m eta \u001b[36m0:00:00\u001b[0m00:01\u001b[0m\n",
      "\u001b[?25hDownloading build-1.0.3-py3-none-any.whl (18 kB)\n",
      "Downloading dataclasses_json-0.6.3-py3-none-any.whl (28 kB)\n",
      "Downloading distro-1.9.0-py3-none-any.whl (20 kB)\n",
      "Downloading fastapi-0.109.0-py3-none-any.whl (92 kB)\n",
      "\u001b[2K   \u001b[90m━━━━━━━━━━━━━━━━━━━━━━━━━━━━━━━━━━━━━━━━\u001b[0m \u001b[32m92.0/92.0 kB\u001b[0m \u001b[31m359.8 kB/s\u001b[0m eta \u001b[36m0:00:00\u001b[0ma \u001b[36m0:00:01\u001b[0m\n",
      "\u001b[?25hDownloading grpcio-1.60.0-cp310-cp310-manylinux_2_17_x86_64.manylinux2014_x86_64.whl (5.4 MB)\n",
      "\u001b[2K   \u001b[90m━━━━━━━━━━━━━━━━━━━━━━━━━━━━━━━━━━━━━━━━\u001b[0m \u001b[32m5.4/5.4 MB\u001b[0m \u001b[31m7.1 MB/s\u001b[0m eta \u001b[36m0:00:00\u001b[0m:00:01\u001b[0m00:01\u001b[0mm\n",
      "\u001b[?25hDownloading httpx-0.26.0-py3-none-any.whl (75 kB)\n",
      "\u001b[2K   \u001b[90m━━━━━━━━━━━━━━━━━━━━━━━━━━━━━━━━━━━━━━━━\u001b[0m \u001b[32m75.9/75.9 kB\u001b[0m \u001b[31m55.7 kB/s\u001b[0m eta \u001b[36m0:00:00\u001b[0mta \u001b[36m0:00:01\u001b[0m\n",
      "\u001b[?25hDownloading httpcore-1.0.2-py3-none-any.whl (76 kB)\n",
      "\u001b[2K   \u001b[90m━━━━━━━━━━━━━━━━━━━━━━━━━━━━━━━━━━━━━━━━\u001b[0m \u001b[32m76.9/76.9 kB\u001b[0m \u001b[31m78.0 kB/s\u001b[0m eta \u001b[36m0:00:00\u001b[0mta \u001b[36m0:00:01\u001b[0m\n",
      "\u001b[?25hDownloading huggingface_hub-0.20.3-py3-none-any.whl (330 kB)\n",
      "\u001b[2K   \u001b[90m━━━━━━━━━━━━━━━━━━━━━━━━━━━━━━━━━━━━━━━\u001b[0m \u001b[32m330.1/330.1 kB\u001b[0m \u001b[31m979.1 kB/s\u001b[0m eta \u001b[36m0:00:00\u001b[0m00:01\u001b[0m\n",
      "\u001b[?25hDownloading jsonpatch-1.33-py2.py3-none-any.whl (12 kB)\n",
      "Downloading kubernetes-29.0.0-py2.py3-none-any.whl (1.6 MB)\n",
      "\u001b[2K   \u001b[90m━━━━━━━━━━━━━━━━━━━━━━━━━━━━━━━━━━━━━━━━\u001b[0m \u001b[32m1.6/1.6 MB\u001b[0m \u001b[31m14.6 MB/s\u001b[0m eta \u001b[36m0:00:00\u001b[0m:00:01\u001b[0m\n",
      "\u001b[?25hDownloading langchain_community-0.0.16-py3-none-any.whl (1.6 MB)\n",
      "\u001b[2K   \u001b[90m━━━━━━━━━━━━━━━━━━━━━━━━━━━━━━━━━━━━━━━━\u001b[0m \u001b[32m1.6/1.6 MB\u001b[0m \u001b[31m25.8 MB/s\u001b[0m eta \u001b[36m0:00:00\u001b[0m:00:01\u001b[0m\n",
      "\u001b[?25hDownloading langchain_core-0.1.16-py3-none-any.whl (230 kB)\n",
      "\u001b[2K   \u001b[90m━━━━━━━━━━━━━━━━━━━━━━━━━━━━━━━━━━━━━━━━\u001b[0m \u001b[32m230.3/230.3 kB\u001b[0m \u001b[31m7.6 MB/s\u001b[0m eta \u001b[36m0:00:00\u001b[0m\n",
      "\u001b[?25hDownloading langsmith-0.0.83-py3-none-any.whl (49 kB)\n",
      "\u001b[2K   \u001b[90m━━━━━━━━━━━━━━━━━━━━━━━━━━━━━━━━━━━━━━━━\u001b[0m \u001b[32m49.3/49.3 kB\u001b[0m \u001b[31m1.7 MB/s\u001b[0m eta \u001b[36m0:00:00\u001b[0m\n",
      "\u001b[?25hDownloading mmh3-4.1.0-cp310-cp310-manylinux_2_5_x86_64.manylinux1_x86_64.manylinux_2_17_x86_64.manylinux2014_x86_64.whl (67 kB)\n",
      "\u001b[2K   \u001b[90m━━━━━━━━━━━━━━━━━━━━━━━━━━━━━━━━━━━━━━━━\u001b[0m \u001b[32m67.6/67.6 kB\u001b[0m \u001b[31m2.3 MB/s\u001b[0m eta \u001b[36m0:00:00\u001b[0m\n",
      "\u001b[?25hDownloading numpy-1.26.3-cp310-cp310-manylinux_2_17_x86_64.manylinux2014_x86_64.whl (18.2 MB)\n",
      "\u001b[2K   \u001b[90m━━━━━━━━━━━━━━━━━━━━━━━━━━━━━━━━━━━━━━━━\u001b[0m \u001b[32m18.2/18.2 MB\u001b[0m \u001b[31m18.8 MB/s\u001b[0m eta \u001b[36m0:00:00\u001b[0m00:01\u001b[0m00:01\u001b[0m\n",
      "\u001b[?25hDownloading onnxruntime-1.16.3-cp310-cp310-manylinux_2_17_x86_64.manylinux2014_x86_64.whl (6.4 MB)\n",
      "\u001b[2K   \u001b[90m━━━━━━━━━━━━━━━━━━━━━━━━━━━━━━━━━━━━━━━━\u001b[0m \u001b[32m6.4/6.4 MB\u001b[0m \u001b[31m10.5 MB/s\u001b[0m eta \u001b[36m0:00:00\u001b[0m00:01\u001b[0m00:01\u001b[0m\n",
      "\u001b[?25hDownloading opentelemetry_api-1.22.0-py3-none-any.whl (57 kB)\n",
      "\u001b[2K   \u001b[90m━━━━━━━━━━━━━━━━━━━━━━━━━━━━━━━━━━━━━━━━\u001b[0m \u001b[32m57.9/57.9 kB\u001b[0m \u001b[31m2.3 MB/s\u001b[0m eta \u001b[36m0:00:00\u001b[0m\n",
      "\u001b[?25hDownloading opentelemetry_exporter_otlp_proto_grpc-1.22.0-py3-none-any.whl (18 kB)\n",
      "Downloading opentelemetry_exporter_otlp_proto_common-1.22.0-py3-none-any.whl (17 kB)\n",
      "Downloading opentelemetry_proto-1.22.0-py3-none-any.whl (50 kB)\n",
      "\u001b[2K   \u001b[90m━━━━━━━━━━━━━━━━━━━━━━━━━━━━━━━━━━━━━━━━\u001b[0m \u001b[32m50.8/50.8 kB\u001b[0m \u001b[31m1.8 MB/s\u001b[0m eta \u001b[36m0:00:00\u001b[0m\n",
      "\u001b[?25hDownloading opentelemetry_instrumentation_fastapi-0.43b0-py3-none-any.whl (11 kB)\n",
      "Downloading opentelemetry_instrumentation-0.43b0-py3-none-any.whl (28 kB)\n",
      "Downloading opentelemetry_instrumentation_asgi-0.43b0-py3-none-any.whl (14 kB)\n",
      "Downloading opentelemetry_semantic_conventions-0.43b0-py3-none-any.whl (36 kB)\n",
      "Downloading opentelemetry_util_http-0.43b0-py3-none-any.whl (6.9 kB)\n",
      "Downloading opentelemetry_sdk-1.22.0-py3-none-any.whl (105 kB)\n",
      "\u001b[2K   \u001b[90m━━━━━━━━━━━━━━━━━━━━━━━━━━━━━━━━━━━━━━━\u001b[0m \u001b[32m105.6/105.6 kB\u001b[0m \u001b[31m453.9 kB/s\u001b[0m eta \u001b[36m0:00:00\u001b[0ma \u001b[36m0:00:01\u001b[0m\n",
      "\u001b[?25hDownloading posthog-3.3.2-py2.py3-none-any.whl (40 kB)\n",
      "\u001b[2K   \u001b[90m━━━━━━━━━━━━━━━━━━━━━━━━━━━━━━━━━━━━━━━━\u001b[0m \u001b[32m40.7/40.7 kB\u001b[0m \u001b[31m1.5 MB/s\u001b[0m eta \u001b[36m0:00:00\u001b[0m\n",
      "\u001b[?25hDownloading pulsar_client-3.4.0-cp310-cp310-manylinux_2_17_x86_64.manylinux2014_x86_64.whl (5.4 MB)\n",
      "\u001b[2K   \u001b[90m━━━━━━━━━━━━━━━━━━━━━━━━━━━━━━━━━━━━━━━━\u001b[0m \u001b[32m5.4/5.4 MB\u001b[0m \u001b[31m15.5 MB/s\u001b[0m eta \u001b[36m0:00:00\u001b[0m00:01\u001b[0m00:01\u001b[0m\n",
      "\u001b[?25hDownloading pydantic-2.5.3-py3-none-any.whl (381 kB)\n",
      "\u001b[2K   \u001b[90m━━━━━━━━━━━━━━━━━━━━━━━━━━━━━━━━━━━━━━━━\u001b[0m \u001b[32m381.9/381.9 kB\u001b[0m \u001b[31m1.5 MB/s\u001b[0m eta \u001b[36m0:00:00\u001b[0m:00:01\u001b[0m\n",
      "\u001b[?25hDownloading pydantic_core-2.14.6-cp310-cp310-manylinux_2_17_x86_64.manylinux2014_x86_64.whl (2.1 MB)\n",
      "\u001b[2K   \u001b[90m━━━━━━━━━━━━━━━━━━━━━━━━━━━━━━━━━━━━━━━━\u001b[0m \u001b[32m2.1/2.1 MB\u001b[0m \u001b[31m6.7 MB/s\u001b[0m eta \u001b[36m0:00:00\u001b[0m:00:01\u001b[0m00:01\u001b[0m\n",
      "\u001b[?25hDownloading SQLAlchemy-2.0.25-cp310-cp310-manylinux_2_17_x86_64.manylinux2014_x86_64.whl (3.1 MB)\n",
      "\u001b[2K   \u001b[90m━━━━━━━━━━━━━━━━━━━━━━━━━━━━━━━━━━━━━━━━\u001b[0m \u001b[32m3.1/3.1 MB\u001b[0m \u001b[31m15.7 MB/s\u001b[0m eta \u001b[36m0:00:00\u001b[0m00:01\u001b[0m00:01\u001b[0m\n",
      "\u001b[?25hDownloading tenacity-8.2.3-py3-none-any.whl (24 kB)\n",
      "Downloading tokenizers-0.15.1-cp310-cp310-manylinux_2_17_x86_64.manylinux2014_x86_64.whl (3.6 MB)\n",
      "\u001b[2K   \u001b[90m━━━━━━━━━━━━━━━━━━━━━━━━━━━━━━━━━━━━━━━━\u001b[0m \u001b[32m3.6/3.6 MB\u001b[0m \u001b[31m8.5 MB/s\u001b[0m eta \u001b[36m0:00:00\u001b[0m:00:01\u001b[0m00:01\u001b[0m\n",
      "\u001b[?25hDownloading tqdm-4.66.1-py3-none-any.whl (78 kB)\n",
      "\u001b[2K   \u001b[90m━━━━━━━━━━━━━━━━━━━━━━━━━━━━━━━━━━━━━━━━\u001b[0m \u001b[32m78.3/78.3 kB\u001b[0m \u001b[31m382.9 kB/s\u001b[0m eta \u001b[36m0:00:00\u001b[0ma \u001b[36m0:00:01\u001b[0m\n",
      "\u001b[?25hDownloading transformers-4.37.1-py3-none-any.whl (8.4 MB)\n",
      "\u001b[2K   \u001b[90m━━━━━━━━━━━━━━━━━━━━━━━━━━━━━━━━━━━━━━━━\u001b[0m \u001b[32m8.4/8.4 MB\u001b[0m \u001b[31m16.2 MB/s\u001b[0m eta \u001b[36m0:00:00\u001b[0m00:01\u001b[0m00:01\u001b[0m\n",
      "\u001b[?25hDownloading uvicorn-0.27.0-py3-none-any.whl (60 kB)\n",
      "\u001b[2K   \u001b[90m━━━━━━━━━━━━━━━━━━━━━━━━━━━━━━━━━━━━━━━━\u001b[0m \u001b[32m60.6/60.6 kB\u001b[0m \u001b[31m1.4 MB/s\u001b[0m eta \u001b[36m0:00:00\u001b[0meta \u001b[36m0:00:01\u001b[0m\n",
      "\u001b[?25hDownloading importlib_resources-6.1.1-py3-none-any.whl (33 kB)\n",
      "Downloading scikit_learn-1.4.0-1-cp310-cp310-manylinux_2_17_x86_64.manylinux2014_x86_64.whl (12.1 MB)\n",
      "\u001b[2K   \u001b[90m━━━━━━━━━━━━━━━━━━━━━━━━━━━━━━━━━━━━━━━━\u001b[0m \u001b[32m12.1/12.1 MB\u001b[0m \u001b[31m7.1 MB/s\u001b[0m eta \u001b[36m0:00:00\u001b[0m:00:01\u001b[0m00:01\u001b[0m\n",
      "\u001b[?25hDownloading scipy-1.12.0-cp310-cp310-manylinux_2_17_x86_64.manylinux2014_x86_64.whl (38.4 MB)\n",
      "\u001b[2K   \u001b[90m━━━━━━━━━━━━━━━━━━━━━━━━━━━━━━━━━━━━━━━━\u001b[0m \u001b[32m38.4/38.4 MB\u001b[0m \u001b[31m10.8 MB/s\u001b[0m eta \u001b[36m0:00:00\u001b[0m00:01\u001b[0m00:01\u001b[0m\n",
      "\u001b[?25hDownloading torchvision-0.16.2-cp310-cp310-manylinux1_x86_64.whl (6.8 MB)\n",
      "\u001b[2K   \u001b[90m━━━━━━━━━━━━━━━━━━━━━━━━━━━━━━━━━━━━━━━━\u001b[0m \u001b[32m6.8/6.8 MB\u001b[0m \u001b[31m10.1 MB/s\u001b[0m eta \u001b[36m0:00:00\u001b[0m00:01\u001b[0m00:01\u001b[0m\n",
      "\u001b[?25hDownloading annotated_types-0.6.0-py3-none-any.whl (12 kB)\n",
      "Downloading click-8.1.7-py3-none-any.whl (97 kB)\n",
      "\u001b[2K   \u001b[90m━━━━━━━━━━━━━━━━━━━━━━━━━━━━━━━━━━━━━━━━\u001b[0m \u001b[32m97.9/97.9 kB\u001b[0m \u001b[31m2.8 MB/s\u001b[0m eta \u001b[36m0:00:00\u001b[0m\n",
      "\u001b[?25hDownloading Deprecated-1.2.14-py2.py3-none-any.whl (9.6 kB)\n",
      "Downloading frozenlist-1.4.1-cp310-cp310-manylinux_2_5_x86_64.manylinux1_x86_64.manylinux_2_17_x86_64.manylinux2014_x86_64.whl (239 kB)\n",
      "\u001b[2K   \u001b[90m━━━━━━━━━━━━━━━━━━━━━━━━━━━━━━━━━━━━━━━━\u001b[0m \u001b[32m239.5/239.5 kB\u001b[0m \u001b[31m7.5 MB/s\u001b[0m eta \u001b[36m0:00:00\u001b[0m\n",
      "\u001b[?25hDownloading google_auth-2.27.0-py2.py3-none-any.whl (186 kB)\n",
      "\u001b[2K   \u001b[90m━━━━━━━━━━━━━━━━━━━━━━━━━━━━━━━━━━━━━━━\u001b[0m \u001b[32m186.8/186.8 kB\u001b[0m \u001b[31m867.6 kB/s\u001b[0m eta \u001b[36m0:00:00\u001b[0m00:01\u001b[0m\n",
      "\u001b[?25hDownloading googleapis_common_protos-1.62.0-py2.py3-none-any.whl (228 kB)\n",
      "\u001b[2K   \u001b[90m━━━━━━━━━━━━━━━━━━━━━━━━━━━━━━━━━━━━━━━━\u001b[0m \u001b[32m228.7/228.7 kB\u001b[0m \u001b[31m8.7 MB/s\u001b[0m eta \u001b[36m0:00:00\u001b[0m\n",
      "\u001b[?25hDownloading greenlet-3.0.3-cp310-cp310-manylinux_2_24_x86_64.manylinux_2_28_x86_64.whl (616 kB)\n",
      "\u001b[2K   \u001b[90m━━━━━━━━━━━━━━━━━━━━━━━━━━━━━━━━━━━━━━━━\u001b[0m \u001b[32m616.0/616.0 kB\u001b[0m \u001b[31m3.1 MB/s\u001b[0m eta \u001b[36m0:00:00\u001b[0m:00:01\u001b[0m\n",
      "\u001b[?25hDownloading httptools-0.6.1-cp310-cp310-manylinux_2_5_x86_64.manylinux1_x86_64.manylinux_2_17_x86_64.manylinux2014_x86_64.whl (341 kB)\n",
      "\u001b[2K   \u001b[90m━━━━━━━━━━━━━━━━━━━━━━━━━━━━━━━━━━━━━━━━\u001b[0m \u001b[32m341.4/341.4 kB\u001b[0m \u001b[31m1.7 MB/s\u001b[0m eta \u001b[36m0:00:00\u001b[0m:00:01\u001b[0m\n",
      "\u001b[?25hDownloading importlib_metadata-6.11.0-py3-none-any.whl (23 kB)\n",
      "Downloading joblib-1.3.2-py3-none-any.whl (302 kB)\n",
      "\u001b[2K   \u001b[90m━━━━━━━━━━━━━━━━━━━━━━━━━━━━━━━━━━━━━━━━\u001b[0m \u001b[32m302.2/302.2 kB\u001b[0m \u001b[31m1.8 MB/s\u001b[0m eta \u001b[36m0:00:00\u001b[0m:00:01\u001b[0m\n",
      "\u001b[?25hDownloading jsonpointer-2.4-py2.py3-none-any.whl (7.8 kB)\n",
      "Downloading marshmallow-3.20.2-py3-none-any.whl (49 kB)\n",
      "\u001b[2K   \u001b[90m━━━━━━━━━━━━━━━━━━━━━━━━━━━━━━━━━━━━━━━━\u001b[0m \u001b[32m49.4/49.4 kB\u001b[0m \u001b[31m1.9 MB/s\u001b[0m eta \u001b[36m0:00:00\u001b[0m\n",
      "\u001b[?25hDownloading packaging-23.2-py3-none-any.whl (53 kB)\n",
      "\u001b[2K   \u001b[90m━━━━━━━━━━━━━━━━━━━━━━━━━━━━━━━━━━━━━━━━\u001b[0m \u001b[32m53.0/53.0 kB\u001b[0m \u001b[31m1.1 MB/s\u001b[0m eta \u001b[36m0:00:00\u001b[0meta \u001b[36m0:00:01\u001b[0m\n",
      "\u001b[?25hDownloading pillow-10.2.0-cp310-cp310-manylinux_2_28_x86_64.whl (4.5 MB)\n",
      "\u001b[2K   \u001b[90m━━━━━━━━━━━━━━━━━━━━━━━━━━━━━━━━━━━━━━━━\u001b[0m \u001b[32m4.5/4.5 MB\u001b[0m \u001b[31m17.5 MB/s\u001b[0m eta \u001b[36m0:00:00\u001b[0m00:01\u001b[0m00:01\u001b[0m\n",
      "\u001b[?25hDownloading protobuf-4.25.2-cp37-abi3-manylinux2014_x86_64.whl (294 kB)\n",
      "\u001b[2K   \u001b[90m━━━━━━━━━━━━━━━━━━━━━━━━━━━━━━━━━━━━━━━━\u001b[0m \u001b[32m294.6/294.6 kB\u001b[0m \u001b[31m8.0 MB/s\u001b[0m eta \u001b[36m0:00:00\u001b[0mta \u001b[36m0:00:01\u001b[0m\n",
      "\u001b[?25hDownloading python_dotenv-1.0.1-py3-none-any.whl (19 kB)\n",
      "Downloading regex-2023.12.25-cp310-cp310-manylinux_2_17_x86_64.manylinux2014_x86_64.whl (773 kB)\n",
      "\u001b[2K   \u001b[90m━━━━━━━━━━━━━━━━━━━━━━━━━━━━━━━━━━━━━━━━\u001b[0m \u001b[32m774.0/774.0 kB\u001b[0m \u001b[31m13.9 MB/s\u001b[0m eta \u001b[36m0:00:00\u001b[0m00:01\u001b[0m\n",
      "\u001b[?25hDownloading safetensors-0.4.2-cp310-cp310-manylinux_2_17_x86_64.manylinux2014_x86_64.whl (1.3 MB)\n",
      "\u001b[2K   \u001b[90m━━━━━━━━━━━━━━━━━━━━━━━━━━━━━━━━━━━━━━━━\u001b[0m \u001b[32m1.3/1.3 MB\u001b[0m \u001b[31m2.1 MB/s\u001b[0m eta \u001b[36m0:00:00\u001b[0m:00:01\u001b[0m00:01\u001b[0m\n",
      "\u001b[?25hDownloading starlette-0.35.1-py3-none-any.whl (71 kB)\n",
      "\u001b[2K   \u001b[90m━━━━━━━━━━━━━━━━━━━━━━━━━━━━━━━━━━━━━━━━\u001b[0m \u001b[32m71.1/71.1 kB\u001b[0m \u001b[31m94.1 kB/s\u001b[0m eta \u001b[36m0:00:00\u001b[0mta \u001b[36m0:00:01\u001b[0m\n",
      "\u001b[?25hDownloading threadpoolctl-3.2.0-py3-none-any.whl (15 kB)\n",
      "Downloading typing_inspect-0.9.0-py3-none-any.whl (8.8 kB)\n",
      "Downloading uvloop-0.19.0-cp310-cp310-manylinux_2_17_x86_64.manylinux2014_x86_64.whl (3.4 MB)\n",
      "\u001b[2K   \u001b[90m━━━━━━━━━━━━━━━━━━━━━━━━━━━━━━━━━━━━━━━━\u001b[0m \u001b[32m3.4/3.4 MB\u001b[0m \u001b[31m17.0 MB/s\u001b[0m eta \u001b[36m0:00:00\u001b[0m00:01\u001b[0m00:01\u001b[0m\n",
      "\u001b[?25hDownloading watchfiles-0.21.0-cp310-cp310-manylinux_2_17_x86_64.manylinux2014_x86_64.whl (1.3 MB)\n",
      "\u001b[2K   \u001b[90m━━━━━━━━━━━━━━━━━━━━━━━━━━━━━━━━━━━━━━━━\u001b[0m \u001b[32m1.3/1.3 MB\u001b[0m \u001b[31m14.2 MB/s\u001b[0m eta \u001b[36m0:00:00\u001b[0m00:01\u001b[0m00:01\u001b[0m\n",
      "\u001b[?25hDownloading websockets-12.0-cp310-cp310-manylinux_2_5_x86_64.manylinux1_x86_64.manylinux_2_17_x86_64.manylinux2014_x86_64.whl (130 kB)\n",
      "\u001b[2K   \u001b[90m━━━━━━━━━━━━━━━━━━━━━━━━━━━━━━━━━━━━━━━\u001b[0m \u001b[32m130.2/130.2 kB\u001b[0m \u001b[31m533.8 kB/s\u001b[0m eta \u001b[36m0:00:00\u001b[0ma \u001b[36m0:00:01\u001b[0m\n",
      "\u001b[?25hDownloading yarl-1.9.4-cp310-cp310-manylinux_2_17_x86_64.manylinux2014_x86_64.whl (301 kB)\n",
      "\u001b[2K   \u001b[90m━━━━━━━━━━━━━━━━━━━━━━━━━━━━━━━━━━━━━━━━\u001b[0m \u001b[32m301.6/301.6 kB\u001b[0m \u001b[31m9.0 MB/s\u001b[0m eta \u001b[36m0:00:00\u001b[0m\n",
      "\u001b[?25hDownloading flatbuffers-23.5.26-py2.py3-none-any.whl (26 kB)\n",
      "Downloading asgiref-3.7.2-py3-none-any.whl (24 kB)\n",
      "Downloading cachetools-5.3.2-py3-none-any.whl (9.3 kB)\n",
      "Downloading wrapt-1.16.0-cp310-cp310-manylinux_2_5_x86_64.manylinux1_x86_64.manylinux_2_17_x86_64.manylinux2014_x86_64.whl (80 kB)\n",
      "\u001b[2K   \u001b[90m━━━━━━━━━━━━━━━━━━━━━━━━━━━━━━━━━━━━━━━━\u001b[0m \u001b[32m80.3/80.3 kB\u001b[0m \u001b[31m423.5 kB/s\u001b[0m eta \u001b[36m0:00:00\u001b[0ma \u001b[36m0:00:01\u001b[0m\n",
      "\u001b[?25hDownloading zipp-3.17.0-py3-none-any.whl (7.4 kB)\n",
      "Downloading pyasn1-0.5.1-py2.py3-none-any.whl (84 kB)\n",
      "\u001b[2K   \u001b[90m━━━━━━━━━━━━━━━━━━━━━━━━━━━━━━━━━━━━━━━━\u001b[0m \u001b[32m84.9/84.9 kB\u001b[0m \u001b[31m306.3 kB/s\u001b[0m eta \u001b[36m0:00:00\u001b[0ma \u001b[36m0:00:01\u001b[0m\n",
      "\u001b[?25hBuilding wheels for collected packages: sentence-transformers, pypika\n",
      "  Building wheel for sentence-transformers (setup.py) ... \u001b[?25ldone\n",
      "\u001b[?25h  Created wheel for sentence-transformers: filename=sentence_transformers-2.2.2-py3-none-any.whl size=125923 sha256=f9370173106a3dccbf0083e49136fc00204f83f9149d27373fec2ff56c44a09c\n",
      "  Stored in directory: /homes/adhikari/.cache/pip/wheels/62/f2/10/1e606fd5f02395388f74e7462910fe851042f97238cbbd902f\n",
      "  Building wheel for pypika (pyproject.toml) ... \u001b[?25ldone\n",
      "\u001b[?25h  Created wheel for pypika: filename=PyPika-0.48.9-py2.py3-none-any.whl size=53723 sha256=da7ed1883aed42b65adddf387e06dbd214d93a8983cb150f59bc9c8970a87de1\n",
      "  Stored in directory: /homes/adhikari/.cache/pip/wheels/e1/26/51/d0bffb3d2fd82256676d7ad3003faea3bd6dddc9577af665f4\n",
      "Successfully built sentence-transformers pypika\n",
      "Installing collected packages: sentencepiece, pypika, monotonic, mmh3, flatbuffers, zipp, wrapt, websockets, uvloop, tqdm, threadpoolctl, tenacity, safetensors, regex, python-dotenv, pyproject_hooks, pydantic-core, pyasn1, pulsar-client, protobuf, pillow, packaging, opentelemetry-util-http, opentelemetry-semantic-conventions, oauthlib, numpy, mypy-extensions, multidict, jsonpointer, joblib, importlib-resources, humanfriendly, httptools, h11, grpcio, greenlet, frozenlist, distro, click, cachetools, bcrypt, backoff, async-timeout, asgiref, annotated-types, yarl, watchfiles, uvicorn, typing-inspect, typer, starlette, SQLAlchemy, scipy, rsa, requests-oauthlib, pydantic, pyasn1-modules, posthog, opentelemetry-proto, nltk, marshmallow, jsonpatch, importlib-metadata, huggingface-hub, httpcore, googleapis-common-protos, deprecated, coloredlogs, chroma-hnswlib, build, aiosignal, torchvision, tokenizers, scikit-learn, opentelemetry-exporter-otlp-proto-common, opentelemetry-api, onnxruntime, langsmith, httpx, google-auth, fastapi, dataclasses-json, aiohttp, transformers, opentelemetry-sdk, opentelemetry-instrumentation, openai, langchain-core, kubernetes, sentence-transformers, opentelemetry-instrumentation-asgi, opentelemetry-exporter-otlp-proto-grpc, langchain-community, opentelemetry-instrumentation-fastapi, langchain, chromadb\n",
      "  Attempting uninstall: packaging\n",
      "    Found existing installation: packaging 23.1\n",
      "    Uninstalling packaging-23.1:\n",
      "      Successfully uninstalled packaging-23.1\n",
      "Successfully installed SQLAlchemy-2.0.25 aiohttp-3.9.1 aiosignal-1.3.1 annotated-types-0.6.0 asgiref-3.7.2 async-timeout-4.0.3 backoff-2.2.1 bcrypt-4.1.2 build-1.0.3 cachetools-5.3.2 chroma-hnswlib-0.7.3 chromadb-0.4.22 click-8.1.7 coloredlogs-15.0.1 dataclasses-json-0.6.3 deprecated-1.2.14 distro-1.9.0 fastapi-0.109.0 flatbuffers-23.5.26 frozenlist-1.4.1 google-auth-2.27.0 googleapis-common-protos-1.62.0 greenlet-3.0.3 grpcio-1.60.0 h11-0.14.0 httpcore-1.0.2 httptools-0.6.1 httpx-0.26.0 huggingface-hub-0.20.3 humanfriendly-10.0 importlib-metadata-6.11.0 importlib-resources-6.1.1 joblib-1.3.2 jsonpatch-1.33 jsonpointer-2.4 kubernetes-29.0.0 langchain-0.1.4 langchain-community-0.0.16 langchain-core-0.1.16 langsmith-0.0.83 marshmallow-3.20.2 mmh3-4.1.0 monotonic-1.6 multidict-6.0.4 mypy-extensions-1.0.0 nltk-3.8.1 numpy-1.26.3 oauthlib-3.2.2 onnxruntime-1.16.3 openai-1.10.0 opentelemetry-api-1.22.0 opentelemetry-exporter-otlp-proto-common-1.22.0 opentelemetry-exporter-otlp-proto-grpc-1.22.0 opentelemetry-instrumentation-0.43b0 opentelemetry-instrumentation-asgi-0.43b0 opentelemetry-instrumentation-fastapi-0.43b0 opentelemetry-proto-1.22.0 opentelemetry-sdk-1.22.0 opentelemetry-semantic-conventions-0.43b0 opentelemetry-util-http-0.43b0 packaging-23.2 pillow-10.2.0 posthog-3.3.2 protobuf-4.25.2 pulsar-client-3.4.0 pyasn1-0.5.1 pyasn1-modules-0.3.0 pydantic-2.5.3 pydantic-core-2.14.6 pypika-0.48.9 pyproject_hooks-1.0.0 python-dotenv-1.0.1 regex-2023.12.25 requests-oauthlib-1.3.1 rsa-4.9 safetensors-0.4.2 scikit-learn-1.4.0 scipy-1.12.0 sentence-transformers-2.2.2 sentencepiece-0.1.99 starlette-0.35.1 tenacity-8.2.3 threadpoolctl-3.2.0 tokenizers-0.15.1 torchvision-0.16.2 tqdm-4.66.1 transformers-4.37.1 typer-0.9.0 typing-inspect-0.9.0 uvicorn-0.27.0 uvloop-0.19.0 watchfiles-0.21.0 websockets-12.0 wrapt-1.16.0 yarl-1.9.4 zipp-3.17.0\n"
     ]
    }
   ],
   "source": [
    "! pip install chromadb sentence-transformers langchain openai"
   ]
  },
  {
   "cell_type": "code",
   "execution_count": 2,
   "id": "ce658200",
   "metadata": {
    "scrolled": true
   },
   "outputs": [
    {
     "name": "stdout",
     "output_type": "stream",
     "text": [
      "Collecting protobuf==3.20.3\n",
      "  Downloading protobuf-3.20.3-cp310-cp310-manylinux_2_12_x86_64.manylinux2010_x86_64.whl (1.1 MB)\n",
      "\u001b[2K     \u001b[90m━━━━━━━━━━━━━━━━━━━━━━━━━━━━━━━━━━━━━━━━\u001b[0m \u001b[32m1.1/1.1 MB\u001b[0m \u001b[31m7.5 MB/s\u001b[0m eta \u001b[36m0:00:00\u001b[0ma \u001b[36m0:00:01\u001b[0m\n",
      "\u001b[?25hInstalling collected packages: protobuf\n",
      "  Attempting uninstall: protobuf\n",
      "    Found existing installation: protobuf 4.25.2\n",
      "    Uninstalling protobuf-4.25.2:\n",
      "      Successfully uninstalled protobuf-4.25.2\n",
      "Successfully installed protobuf-3.20.3\n"
     ]
    }
   ],
   "source": [
    "! pip install protobuf==3.20.3"
   ]
  },
  {
   "cell_type": "code",
   "execution_count": null,
   "id": "ee11107a-843e-40bb-a401-a9c2e7014a00",
   "metadata": {},
   "outputs": [],
   "source": [
    "#Downloading the data from gdrive\n",
    "! pip install gdown\n",
    "!gdown 'https://drive.google.com/uc?id=1pgvce7x6b9BTWNqHZqN2Z4TkR0hkJp4q&export=download'"
   ]
  },
  {
   "cell_type": "markdown",
   "id": "91bdfe9d-3a19-4ba3-87a2-8e64b94ced3e",
   "metadata": {
    "jp-MarkdownHeadingCollapsed": true
   },
   "source": [
    "### Imports"
   ]
  },
  {
   "cell_type": "code",
   "execution_count": 1,
   "id": "bb8e79de",
   "metadata": {},
   "outputs": [
    {
     "name": "stderr",
     "output_type": "stream",
     "text": [
      "/tmp/ipykernel_3956573/1563873738.py:1: DeprecationWarning: \n",
      "Pyarrow will become a required dependency of pandas in the next major release of pandas (pandas 3.0),\n",
      "(to allow more performant data types, such as the Arrow string type, and better interoperability with other libraries)\n",
      "but was not found to be installed on your system.\n",
      "If this would cause problems for you,\n",
      "please provide us feedback at https://github.com/pandas-dev/pandas/issues/54466\n",
      "        \n",
      "  import pandas as pd\n"
     ]
    }
   ],
   "source": [
    "import pandas as pd\n",
    "import numpy as np\n",
    "import seaborn as sns\n",
    "\n",
    "import os\n",
    "from langchain.vectorstores import Chroma\n",
    "from langchain.document_loaders import DataFrameLoader\n",
    "from langchain.embeddings.sentence_transformer import SentenceTransformerEmbeddings\n",
    "from langchain.prompts.prompt import PromptTemplate\n",
    "from langchain.chat_models import ChatOpenAI\n",
    "from langchain.prompts import ChatPromptTemplate\n",
    "from langchain.schema.output_parser import StrOutputParser\n",
    "from langchain.schema.runnable import RunnablePassthrough, RunnableParallel"
   ]
  },
  {
   "cell_type": "code",
   "execution_count": 15,
   "id": "fa996819",
   "metadata": {},
   "outputs": [],
   "source": [
    "os.environ[\"OPENAI_API_KEY\"] = \"\""
   ]
  },
  {
   "cell_type": "markdown",
   "id": "927b4499-8bf4-4623-8b73-e2074502678b",
   "metadata": {
    "jp-MarkdownHeadingCollapsed": true
   },
   "source": [
    "### Testing"
   ]
  },
  {
   "cell_type": "code",
   "execution_count": 2,
   "id": "e677271b",
   "metadata": {},
   "outputs": [
    {
     "data": {
      "text/html": [
       "<div>\n",
       "<style scoped>\n",
       "    .dataframe tbody tr th:only-of-type {\n",
       "        vertical-align: middle;\n",
       "    }\n",
       "\n",
       "    .dataframe tbody tr th {\n",
       "        vertical-align: top;\n",
       "    }\n",
       "\n",
       "    .dataframe thead th {\n",
       "        text-align: right;\n",
       "    }\n",
       "</style>\n",
       "<table border=\"1\" class=\"dataframe\">\n",
       "  <thead>\n",
       "    <tr style=\"text-align: right;\">\n",
       "      <th></th>\n",
       "      <th>text</th>\n",
       "      <th>source</th>\n",
       "      <th>content</th>\n",
       "    </tr>\n",
       "  </thead>\n",
       "  <tbody>\n",
       "    <tr>\n",
       "      <th>0</th>\n",
       "      <td>WM .GARDNER &amp; SONS , Engineers , GLOUCESTER I ...</td>\n",
       "      <td>ID: http://data.odeuropa.eu/smell/00000d38-58e...</td>\n",
       "      <td>wm gardner son engineer gloucester lii chemist...</td>\n",
       "    </tr>\n",
       "    <tr>\n",
       "      <th>1</th>\n",
       "      <td>) { ac ) Nerves of the septum nasi .{ aca ) Ol...</td>\n",
       "      <td>ID: http://data.odeuropa.eu/smell/00001f4d-842...</td>\n",
       "      <td>ac nerve septum nasi aca olfactory nerve nn ol...</td>\n",
       "    </tr>\n",
       "    <tr>\n",
       "      <th>2</th>\n",
       "      <td>5 .Entirely volatilized by heat ; burns in air...</td>\n",
       "      <td>ID: http://data.odeuropa.eu/smell/00002376-b99...</td>\n",
       "      <td>5 entirely volatilized heat burn air blue flam...</td>\n",
       "    </tr>\n",
       "    <tr>\n",
       "      <th>3</th>\n",
       "      <td>There are instruments for measuring the sense ...</td>\n",
       "      <td>ID: http://data.odeuropa.eu/smell/0000263b-7fd...</td>\n",
       "      <td>instrument measuring sense smell olfactometer ...</td>\n",
       "    </tr>\n",
       "    <tr>\n",
       "      <th>4</th>\n",
       "      <td>THE POWDER , when exposed to the air , tut mor...</td>\n",
       "      <td>ID: http://data.odeuropa.eu/smell/00002ae9-624...</td>\n",
       "      <td>powder exposed air tut rapidly damped water wh...</td>\n",
       "    </tr>\n",
       "  </tbody>\n",
       "</table>\n",
       "</div>"
      ],
      "text/plain": [
       "                                                text  \\\n",
       "0  WM .GARDNER & SONS , Engineers , GLOUCESTER I ...   \n",
       "1  ) { ac ) Nerves of the septum nasi .{ aca ) Ol...   \n",
       "2  5 .Entirely volatilized by heat ; burns in air...   \n",
       "3  There are instruments for measuring the sense ...   \n",
       "4  THE POWDER , when exposed to the air , tut mor...   \n",
       "\n",
       "                                              source  \\\n",
       "0  ID: http://data.odeuropa.eu/smell/00000d38-58e...   \n",
       "1  ID: http://data.odeuropa.eu/smell/00001f4d-842...   \n",
       "2  ID: http://data.odeuropa.eu/smell/00002376-b99...   \n",
       "3  ID: http://data.odeuropa.eu/smell/0000263b-7fd...   \n",
       "4  ID: http://data.odeuropa.eu/smell/00002ae9-624...   \n",
       "\n",
       "                                             content  \n",
       "0  wm gardner son engineer gloucester lii chemist...  \n",
       "1  ac nerve septum nasi aca olfactory nerve nn ol...  \n",
       "2  5 entirely volatilized heat burn air blue flam...  \n",
       "3  instrument measuring sense smell olfactometer ...  \n",
       "4  powder exposed air tut rapidly damped water wh...  "
      ]
     },
     "execution_count": 2,
     "metadata": {},
     "output_type": "execute_result"
    }
   ],
   "source": [
    "testdf = pd.read_pickle('testdf')\n",
    "testdf.head()"
   ]
  },
  {
   "cell_type": "code",
   "execution_count": 3,
   "id": "e13a51b4",
   "metadata": {},
   "outputs": [],
   "source": [
    "loader2 = DataFrameLoader(testdf, page_content_column=\"content\")\n",
    "docs2 = loader2.load()"
   ]
  },
  {
   "cell_type": "code",
   "execution_count": 4,
   "id": "2f6cd260",
   "metadata": {},
   "outputs": [
    {
     "data": {
      "text/plain": [
       "Document(page_content='labyrinth miserable tenement allowed grow golden square burlington garden even one well acquainted region get entangled lane broad street great pulteney street find puzzled get breathe many strange odour walk select company fact within stone throw finest street london territory look properly belonged whitechapel wapping book history london map illustration supplement written william john loftie 1883 envokes emotion doubt', metadata={'text': \"A labyrinth of miserable tenements had been allowed to grow up between Golden Square and Burlington Gardens .Even now , any one not very well acquainted with the region , who gets entangled in the lanes about Broad Street or Great Pulteney Street will find himself puzzled how to get out again , and will have to breathe many strange odours , and walk in not very select company .There is , in fact , within a stone ' s throw of the finest street in London a territory which looks as if it properly belonged to Whitechapel or Wapping . from the book History of London. ... With maps and illustrations. (Supplement.) written by William John LOFTIE in 1883. envokes emotions doubt\", 'source': 'ID: http://data.odeuropa.eu/smell/002170d3-8dbe-5641-a869-b8d124994c98 Source: http://data.odeuropa.eu/source/99e078e7-122a-5b2d-bf38-edc6b1b21e6c'})"
      ]
     },
     "execution_count": 4,
     "metadata": {},
     "output_type": "execute_result"
    }
   ],
   "source": [
    "#random document\n",
    "docs2[np.random.randint(low=1, high=1000)]"
   ]
  },
  {
   "cell_type": "code",
   "execution_count": 5,
   "id": "c09bc553-9005-4505-8e0e-e690ba0e7d88",
   "metadata": {},
   "outputs": [],
   "source": [
    "model_kwargs = {'device':'cuda'}"
   ]
  },
  {
   "cell_type": "code",
   "execution_count": 6,
   "id": "9b968701",
   "metadata": {},
   "outputs": [
    {
     "name": "stderr",
     "output_type": "stream",
     "text": [
      "C:\\Users\\bipna\\anaconda3\\envs\\odeuropa\\lib\\site-packages\\tqdm\\auto.py:21: TqdmWarning: IProgress not found. Please update jupyter and ipywidgets. See https://ipywidgets.readthedocs.io/en/stable/user_install.html\n",
      "  from .autonotebook import tqdm as notebook_tqdm\n"
     ]
    }
   ],
   "source": [
    "# create the open-source embedding function\n",
    "embedding_function = SentenceTransformerEmbeddings(model_name=\"all-MiniLM-L6-v2\",model_kwargs=model_kwargs)"
   ]
  },
  {
   "cell_type": "code",
   "execution_count": 7,
   "id": "b0c625e2",
   "metadata": {},
   "outputs": [],
   "source": [
    "# load it into Chroma\n",
    "test_vectordb = Chroma.from_documents(docs2, embedding_function,persist_directory='test_vectordb')"
   ]
  },
  {
   "cell_type": "code",
   "execution_count": null,
   "id": "4c2d1986",
   "metadata": {},
   "outputs": [],
   "source": [
    "query = \"from the book A further account of the proceedings of the Association of Fellows of the Royal College of Surgeons of England\"\n",
    "retrived_docs = test_vectordb.similarity_search_with_score(query,k=3)\n",
    "\n",
    "# print results\n",
    "for retrived_doc in retrived_docs:\n",
    "  print(retrived_doc)"
   ]
  },
  {
   "cell_type": "markdown",
   "id": "72b09d8b-8581-4777-950b-1d78a9e0aef7",
   "metadata": {},
   "source": [
    "### Vector DBs"
   ]
  },
  {
   "cell_type": "markdown",
   "id": "b18d03d1-69d2-400a-b6f2-c61aa13c7d6b",
   "metadata": {},
   "source": [
    "Vector db <b>Naming scheme</b> : db_[model]_[sw/nsw]_[ck/nck]<br>\n",
    "swr/swn: stopword removed/stopword not removed<br>\n",
    "ck/nck: chunked/not chunked"
   ]
  },
  {
   "cell_type": "markdown",
   "id": "b583bf2d-97a1-4389-84d7-6053910e0fa7",
   "metadata": {},
   "source": [
    "#### DF management\n",
    "create df as per requirements of vector dbs"
   ]
  },
  {
   "cell_type": "code",
   "execution_count": 2,
   "id": "3e1c8bd3-4e20-453d-afb9-6208e62995f5",
   "metadata": {},
   "outputs": [
    {
     "data": {
      "text/html": [
       "<div>\n",
       "<style scoped>\n",
       "    .dataframe tbody tr th:only-of-type {\n",
       "        vertical-align: middle;\n",
       "    }\n",
       "\n",
       "    .dataframe tbody tr th {\n",
       "        vertical-align: top;\n",
       "    }\n",
       "\n",
       "    .dataframe thead th {\n",
       "        text-align: right;\n",
       "    }\n",
       "</style>\n",
       "<table border=\"1\" class=\"dataframe\">\n",
       "  <thead>\n",
       "    <tr style=\"text-align: right;\">\n",
       "      <th></th>\n",
       "      <th>text</th>\n",
       "      <th>source</th>\n",
       "      <th>content</th>\n",
       "    </tr>\n",
       "  </thead>\n",
       "  <tbody>\n",
       "    <tr>\n",
       "      <th>0</th>\n",
       "      <td>WM .GARDNER &amp; SONS , Engineers , GLOUCESTER I ...</td>\n",
       "      <td>ID: http://data.odeuropa.eu/smell/00000d38-58e...</td>\n",
       "      <td>wm gardner son engineer gloucester lii chemist...</td>\n",
       "    </tr>\n",
       "    <tr>\n",
       "      <th>1</th>\n",
       "      <td>) { ac ) Nerves of the septum nasi .{ aca ) Ol...</td>\n",
       "      <td>ID: http://data.odeuropa.eu/smell/00001f4d-842...</td>\n",
       "      <td>ac nerve septum nasi aca olfactory nerve nn ol...</td>\n",
       "    </tr>\n",
       "    <tr>\n",
       "      <th>2</th>\n",
       "      <td>5 .Entirely volatilized by heat ; burns in air...</td>\n",
       "      <td>ID: http://data.odeuropa.eu/smell/00002376-b99...</td>\n",
       "      <td>5 entirely volatilized heat burn air blue flam...</td>\n",
       "    </tr>\n",
       "    <tr>\n",
       "      <th>3</th>\n",
       "      <td>There are instruments for measuring the sense ...</td>\n",
       "      <td>ID: http://data.odeuropa.eu/smell/0000263b-7fd...</td>\n",
       "      <td>instrument measuring sense smell olfactometer ...</td>\n",
       "    </tr>\n",
       "    <tr>\n",
       "      <th>4</th>\n",
       "      <td>THE POWDER , when exposed to the air , tut mor...</td>\n",
       "      <td>ID: http://data.odeuropa.eu/smell/00002ae9-624...</td>\n",
       "      <td>powder exposed air tut rapidly damped water wh...</td>\n",
       "    </tr>\n",
       "    <tr>\n",
       "      <th>...</th>\n",
       "      <td>...</td>\n",
       "      <td>...</td>\n",
       "      <td>...</td>\n",
       "    </tr>\n",
       "    <tr>\n",
       "      <th>1452082</th>\n",
       "      <td>The effect produced on the bell wires was beau...</td>\n",
       "      <td>ID: http://data.odeuropa.eu/smell/ffffdd4d-cf7...</td>\n",
       "      <td>effect produced bell wire wa beautiful beyond ...</td>\n",
       "    </tr>\n",
       "    <tr>\n",
       "      <th>1452083</th>\n",
       "      <td>The common practice of burning scented paper ,...</td>\n",
       "      <td>ID: http://data.odeuropa.eu/smell/ffffde20-a5b...</td>\n",
       "      <td>common practice burning scented paper pastille...</td>\n",
       "    </tr>\n",
       "    <tr>\n",
       "      <th>1452084</th>\n",
       "      <td>â   In all ear and throat diseases cleanline...</td>\n",
       "      <td>ID: http://data.odeuropa.eu/smell/ffffe215-eff...</td>\n",
       "      <td>ear throat disease cleanliness nose assist cur...</td>\n",
       "    </tr>\n",
       "    <tr>\n",
       "      <th>1452085</th>\n",
       "      <td>Mr .Prosper himself was the stupidest ass ! At...</td>\n",
       "      <td>ID: http://data.odeuropa.eu/smell/ffffe6f7-47d...</td>\n",
       "      <td>mr prosper wa stupidest welwyn people smelled ...</td>\n",
       "    </tr>\n",
       "    <tr>\n",
       "      <th>1452086</th>\n",
       "      <td>There is not any doubt that it is by means of ...</td>\n",
       "      <td>ID: http://data.odeuropa.eu/smell/ffffed12-e00...</td>\n",
       "      <td>doubt mean antenna bee recognize peculiar odou...</td>\n",
       "    </tr>\n",
       "  </tbody>\n",
       "</table>\n",
       "<p>1452087 rows × 3 columns</p>\n",
       "</div>"
      ],
      "text/plain": [
       "                                                      text  \\\n",
       "0        WM .GARDNER & SONS , Engineers , GLOUCESTER I ...   \n",
       "1        ) { ac ) Nerves of the septum nasi .{ aca ) Ol...   \n",
       "2        5 .Entirely volatilized by heat ; burns in air...   \n",
       "3        There are instruments for measuring the sense ...   \n",
       "4        THE POWDER , when exposed to the air , tut mor...   \n",
       "...                                                    ...   \n",
       "1452082  The effect produced on the bell wires was beau...   \n",
       "1452083  The common practice of burning scented paper ,...   \n",
       "1452084  â   In all ear and throat diseases cleanline...   \n",
       "1452085  Mr .Prosper himself was the stupidest ass ! At...   \n",
       "1452086  There is not any doubt that it is by means of ...   \n",
       "\n",
       "                                                    source  \\\n",
       "0        ID: http://data.odeuropa.eu/smell/00000d38-58e...   \n",
       "1        ID: http://data.odeuropa.eu/smell/00001f4d-842...   \n",
       "2        ID: http://data.odeuropa.eu/smell/00002376-b99...   \n",
       "3        ID: http://data.odeuropa.eu/smell/0000263b-7fd...   \n",
       "4        ID: http://data.odeuropa.eu/smell/00002ae9-624...   \n",
       "...                                                    ...   \n",
       "1452082  ID: http://data.odeuropa.eu/smell/ffffdd4d-cf7...   \n",
       "1452083  ID: http://data.odeuropa.eu/smell/ffffde20-a5b...   \n",
       "1452084  ID: http://data.odeuropa.eu/smell/ffffe215-eff...   \n",
       "1452085  ID: http://data.odeuropa.eu/smell/ffffe6f7-47d...   \n",
       "1452086  ID: http://data.odeuropa.eu/smell/ffffed12-e00...   \n",
       "\n",
       "                                                   content  \n",
       "0        wm gardner son engineer gloucester lii chemist...  \n",
       "1        ac nerve septum nasi aca olfactory nerve nn ol...  \n",
       "2        5 entirely volatilized heat burn air blue flam...  \n",
       "3        instrument measuring sense smell olfactometer ...  \n",
       "4        powder exposed air tut rapidly damped water wh...  \n",
       "...                                                    ...  \n",
       "1452082  effect produced bell wire wa beautiful beyond ...  \n",
       "1452083  common practice burning scented paper pastille...  \n",
       "1452084  ear throat disease cleanliness nose assist cur...  \n",
       "1452085  mr prosper wa stupidest welwyn people smelled ...  \n",
       "1452086  doubt mean antenna bee recognize peculiar odou...  \n",
       "\n",
       "[1452087 rows x 3 columns]"
      ]
     },
     "execution_count": 2,
     "metadata": {},
     "output_type": "execute_result"
    }
   ],
   "source": [
    "embedding_df = pd.read_pickle('../data/clean_embedding_df.pkl')\n",
    "embedding_df"
   ]
  },
  {
   "cell_type": "markdown",
   "id": "845ba0a5-39fb-406a-8b5d-015eaf196fb4",
   "metadata": {},
   "source": [
    "#### MiniLm using stopword removed and not chunked"
   ]
  },
  {
   "cell_type": "code",
   "execution_count": 16,
   "id": "d4c915bf-9df3-4502-ad82-7802b1d2e81a",
   "metadata": {},
   "outputs": [],
   "source": [
    "loader = DataFrameLoader(embedding_df, page_content_column=\"content\")\n",
    "docs = loader.load()"
   ]
  },
  {
   "cell_type": "code",
   "execution_count": 27,
   "id": "3d69c31f-263e-4784-a5da-496c674acee4",
   "metadata": {
    "scrolled": true
   },
   "outputs": [
    {
     "data": {
      "text/plain": [
       "Document(page_content='crust ice formed juice poured another vessel repeating process several time remaining juice informed ha concentrated eight time original strength kept without suffering material change several year ice first formed wholly void acidity subsequent congelation become imbued acid whytt found juice lemon allay hysterical palpitation heart various medicine experienced ineffectual juice orange taken quantity four six ounce day ha sometimes found remedy jaundice exterior rind lemon grateful aromatic bitter le hot orange peel yield distillation le quantity oil oil extremely light almost colourless smell nearly agreeable fresh peel frequently employed per fume generally brought u southern part europe name essence lemon lemon peel f see georgii l book report 1957 written ely rural district council 1957 ha smell source oil', metadata={'text': 'After a crust of ice is formed , the juice is poured into another vessel ; and by repeating this process several times , the remaining juice , we are informed , has been concentrated to eight times its original strength , and kept without suffering any material change for several years / The ice first formed is wholly void of acidity , but the subsequent congelations become more and more imbued with the acid .Whytt found the juice of Lemons to allay hysterical palpitations of the heart , after various other medicines had been experienced ineffectual ; * and this juice , or that of oranges , taken to the quantity of four or six ounces a - day , has sometimes been found a remedy in the jaundice / The exterior rind of Lemons is a grateful aromatic bitter , but less hot than orange - peel , and yields in distillation a less quantity of oil : the oil is extremely light , almost colourless , in smell nearly as agreeable as the fresh peel , and frequently employed as a perÂ ¬ fume : it is generally brought to us from the southern parts of Europe , under the name of Essence of Lemons .The Lemon peel , f See Georgii , l . from the book [Report 1957] written by Ely . Rural District Council in 1957 has smell source Oil.', 'source': 'ID: http://data.odeuropa.eu/smell/00216775-3385-5f9e-a2eb-7d3c14ba0e9e Source: http://data.odeuropa.eu/source/7fba1ae5-a5c7-5948-8e9b-7343c93b4892'})"
      ]
     },
     "execution_count": 27,
     "metadata": {},
     "output_type": "execute_result"
    }
   ],
   "source": [
    "#random document\n",
    "docs[np.random.randint(low=1, high=1000)]"
   ]
  },
  {
   "cell_type": "code",
   "execution_count": 20,
   "id": "5092e4c1-e4d1-47b4-97c7-853da1575c95",
   "metadata": {},
   "outputs": [
    {
     "name": "stdout",
     "output_type": "stream",
     "text": [
      "CUDA is available. Number of GPUs: 4\n",
      "Current GPU: 3\n",
      "GPU Name: NVIDIA GeForce RTX 3090\n"
     ]
    }
   ],
   "source": [
    "# Check if GPU (CUDA) is available\n",
    "if torch.cuda.is_available():\n",
    "    print(\"CUDA is available. Number of GPUs:\", torch.cuda.device_count())\n",
    "    current_device = torch.cuda.current_device()\n",
    "    print(\"Current GPU:\", current_device)\n",
    "    print(\"GPU Name:\", torch.cuda.get_device_name(current_device))\n",
    "else:\n",
    "    print(\"CUDA is not available. Using CPU.\")\n",
    "    current_device = torch.device(\"cpu\")\n",
    "\n",
    "# Set CUDA_VISIBLE_DEVICES to specify the GPU\n",
    "torch.cuda.set_device(3)\n",
    "os.environ[\"CUDA_VISIBLE_DEVICES\"] = \"3\""
   ]
  },
  {
   "cell_type": "code",
   "execution_count": 21,
   "id": "415fcf19-7771-4174-99f8-ac16850e87ee",
   "metadata": {},
   "outputs": [],
   "source": [
    "model_kwargs = {'device':'cuda'}"
   ]
  },
  {
   "cell_type": "code",
   "execution_count": 23,
   "id": "a609b371-778a-428a-a5f1-e7ff0906e877",
   "metadata": {},
   "outputs": [],
   "source": [
    "# create the open-source embedding function\n",
    "MiniLM = SentenceTransformerEmbeddings(model_name=\"all-MiniLM-L6-v2\", model_kwargs=model_kwargs)"
   ]
  },
  {
   "cell_type": "code",
   "execution_count": 25,
   "id": "ab3c3875-f20c-40a7-a50c-00cab6d59b51",
   "metadata": {},
   "outputs": [],
   "source": [
    "#load it into Chroma\n",
    "#db_miniLM_swr_nck = Chroma.from_documents(docs,MiniLM,persist_directory='../data/db_miniLM_swr_nck')"
   ]
  },
  {
   "cell_type": "code",
   "execution_count": 8,
   "id": "60813e50-e917-45ca-90d5-e0e8f46b483b",
   "metadata": {},
   "outputs": [],
   "source": [
    "db_miniLM_swr_nck = Chroma(persist_directory=\"../data/db_miniLM_swr_nck\", embedding_function=MiniLM)"
   ]
  },
  {
   "cell_type": "code",
   "execution_count": 26,
   "id": "62703478-0bca-4477-839f-b779e05c5973",
   "metadata": {},
   "outputs": [
    {
     "name": "stdout",
     "output_type": "stream",
     "text": [
      "(Document(page_content='smell well never thought ah scent tobacco would worth great deal u investigation never smoke think observed smell tobacco book strand magazine 1893 ha smell source tobacco', metadata={'source': 'ID: http://data.odeuropa.eu/smell/553f344b-2e59-5ade-a648-011a15bbdce1 Source: http://data.odeuropa.eu/source/f2562bfd-1b0a-574c-87cc-27288255440d', 'text': '\" \" No smell ? \" \" Well , we never thought of that .\" \" Ah , a scent of tobacco would have been worth a great deal to us in such an investigation .\" \" I never smoke myself , so I think I should have observed it if there had been any smell of tobacco . from the book The Strand Magazine in 1893 has smell source Tobacco.'}), 0.5634164810180664)\n",
      "(Document(page_content='odeur de tabac f smell bacco gesellschaft f book nouveau dictionnaire franaishollandaisallemandanglais 1849 ha smell source tobacco', metadata={'source': 'ID: http://data.odeuropa.eu/smell/76496e67-89b4-5bd9-b963-fb8713c4ecb5 Source: http://data.odeuropa.eu/source/18094d3c-3c91-5363-b1d3-069e60ba95d6', 'text': 'â \\x80 \\x94 odeur de tabac , f .â \\x80 \\x94 smell of toÂ ¬ bacco .â \\x80 \\x94 GESELLSCHAFT , f . from the book Nouveau dictionnaire français-hollandais-allemand-anglais in 1849 has smell source Tobacco.'}), 0.564926266670227)\n",
      "(Document(page_content='ha attention committee drawn strong smell tobacco smoke may often smelt entrance ward found repeatedly long period think odor well deserving attention 18 december 1865 book instruction sur la pratique de linoculation de la petite vrole suivie dun prcis sur la nature et le traitement de la petite vrole extrait de leon du c portal written n 2001127436 salmade 1798', metadata={'source': 'ID: http://data.odeuropa.eu/smell/95cd9a22-ceaf-503a-b805-bb67a130d1f6 Source: http://data.odeuropa.eu/source/ba0a001d-1dc4-56ae-a4ef-97f152498788', 'text': \"Has the attention of the Committee been drawn to the strong smell of tobacco smoke which may often be smelt at the entrance to the ward ? I have found it repeatedly , and during a long period .I think this odor is well deserving of their attention .18 December , 1865 . from the book Instruction sur la pratique de l'inoculation de la petite vérole; : suivie d'un précis sur la nature et le traitement de la petite vérole, extrait des leçons du C. Portal, ... written by M. A. . n 2001127436 Salmade in 1798.\"}), 0.5950025320053101)\n",
      "(Document(page_content='smell tobacco nostril book social history smoking written george latimer n 50023502 apperson 1914 ha smell source tobacco', metadata={'source': 'ID: http://data.odeuropa.eu/smell/ea81c494-bdbd-5aed-8d6b-60449359ed9a Source: http://data.odeuropa.eu/source/58bdb44a-0f4c-5f01-bfb2-ceac06ad9dbb', 'text': '.with the smell of tobacco in my nostrils .. from the book The social history of smoking written by George Latimer. n 50023502 Apperson in 1914 has smell source Tobacco.'}), 0.6110502481460571)\n",
      "(Document(page_content='2l6 belladonna sensitive sense smell odour tobacco smoke soot intolerable aft h book instruction sur la pratique de linoculation de la petite vrole suivie dun prcis sur la nature et le traitement de la petite vrole extrait de leon du c portal written n 2001127436 salmade 1798 ha smell source tobacco', metadata={'source': 'ID: http://data.odeuropa.eu/smell/4497b3fc-f502-51cb-9dcc-4fc4a4f2ab50 Source: http://data.odeuropa.eu/source/ba0a001d-1dc4-56ae-a4ef-97f152498788', 'text': \"2l6 BELLADONNA .Too sensitive sense of smell ; the odour of tobacco smoke and soot is intolerable to him ( aft .I h . from the book Instruction sur la pratique de l'inoculation de la petite vérole; : suivie d'un précis sur la nature et le traitement de la petite vérole, extrait des leçons du C. Portal, ... written by M. A. . n 2001127436 Salmade in 1798 has smell source Tobacco.\"}), 0.6153501272201538)\n"
     ]
    }
   ],
   "source": [
    "query = \"What was the tobacco smelled like in 1800s \"\n",
    "retrived_docs = db_miniLM_swr_nck.similarity_search_with_score(query,k=5)\n",
    "\n",
    "# print results\n",
    "for retrived_doc in retrived_docs:\n",
    "  print(retrived_doc)"
   ]
  },
  {
   "cell_type": "markdown",
   "id": "ce05d920-ba16-4d24-aa29-73c936acfa6d",
   "metadata": {},
   "source": [
    "### bge-small-en using stopword removed and not chunked\n",
    "https://huggingface.co/BAAI/bge-small-en-v1.5"
   ]
  },
  {
   "cell_type": "code",
   "execution_count": 3,
   "id": "2a456e2d-acf0-4ac0-bc21-41d17a5cf200",
   "metadata": {
    "scrolled": true
   },
   "outputs": [
    {
     "data": {
      "text/html": [
       "<div>\n",
       "<style scoped>\n",
       "    .dataframe tbody tr th:only-of-type {\n",
       "        vertical-align: middle;\n",
       "    }\n",
       "\n",
       "    .dataframe tbody tr th {\n",
       "        vertical-align: top;\n",
       "    }\n",
       "\n",
       "    .dataframe thead th {\n",
       "        text-align: right;\n",
       "    }\n",
       "</style>\n",
       "<table border=\"1\" class=\"dataframe\">\n",
       "  <thead>\n",
       "    <tr style=\"text-align: right;\">\n",
       "      <th></th>\n",
       "      <th>text</th>\n",
       "      <th>source</th>\n",
       "      <th>content</th>\n",
       "    </tr>\n",
       "  </thead>\n",
       "  <tbody>\n",
       "    <tr>\n",
       "      <th>0</th>\n",
       "      <td>WM .GARDNER &amp; SONS , Engineers , GLOUCESTER I ...</td>\n",
       "      <td>ID: http://data.odeuropa.eu/smell/00000d38-58e...</td>\n",
       "      <td>wm gardner son engineer gloucester lii chemist...</td>\n",
       "    </tr>\n",
       "    <tr>\n",
       "      <th>1</th>\n",
       "      <td>) { ac ) Nerves of the septum nasi .{ aca ) Ol...</td>\n",
       "      <td>ID: http://data.odeuropa.eu/smell/00001f4d-842...</td>\n",
       "      <td>ac nerve septum nasi aca olfactory nerve nn ol...</td>\n",
       "    </tr>\n",
       "    <tr>\n",
       "      <th>2</th>\n",
       "      <td>5 .Entirely volatilized by heat ; burns in air...</td>\n",
       "      <td>ID: http://data.odeuropa.eu/smell/00002376-b99...</td>\n",
       "      <td>5 entirely volatilized heat burn air blue flam...</td>\n",
       "    </tr>\n",
       "    <tr>\n",
       "      <th>3</th>\n",
       "      <td>There are instruments for measuring the sense ...</td>\n",
       "      <td>ID: http://data.odeuropa.eu/smell/0000263b-7fd...</td>\n",
       "      <td>instrument measuring sense smell olfactometer ...</td>\n",
       "    </tr>\n",
       "    <tr>\n",
       "      <th>4</th>\n",
       "      <td>THE POWDER , when exposed to the air , tut mor...</td>\n",
       "      <td>ID: http://data.odeuropa.eu/smell/00002ae9-624...</td>\n",
       "      <td>powder exposed air tut rapidly damped water wh...</td>\n",
       "    </tr>\n",
       "    <tr>\n",
       "      <th>...</th>\n",
       "      <td>...</td>\n",
       "      <td>...</td>\n",
       "      <td>...</td>\n",
       "    </tr>\n",
       "    <tr>\n",
       "      <th>1452082</th>\n",
       "      <td>The effect produced on the bell wires was beau...</td>\n",
       "      <td>ID: http://data.odeuropa.eu/smell/ffffdd4d-cf7...</td>\n",
       "      <td>effect produced bell wire wa beautiful beyond ...</td>\n",
       "    </tr>\n",
       "    <tr>\n",
       "      <th>1452083</th>\n",
       "      <td>The common practice of burning scented paper ,...</td>\n",
       "      <td>ID: http://data.odeuropa.eu/smell/ffffde20-a5b...</td>\n",
       "      <td>common practice burning scented paper pastille...</td>\n",
       "    </tr>\n",
       "    <tr>\n",
       "      <th>1452084</th>\n",
       "      <td>â   In all ear and throat diseases cleanline...</td>\n",
       "      <td>ID: http://data.odeuropa.eu/smell/ffffe215-eff...</td>\n",
       "      <td>ear throat disease cleanliness nose assist cur...</td>\n",
       "    </tr>\n",
       "    <tr>\n",
       "      <th>1452085</th>\n",
       "      <td>Mr .Prosper himself was the stupidest ass ! At...</td>\n",
       "      <td>ID: http://data.odeuropa.eu/smell/ffffe6f7-47d...</td>\n",
       "      <td>mr prosper wa stupidest welwyn people smelled ...</td>\n",
       "    </tr>\n",
       "    <tr>\n",
       "      <th>1452086</th>\n",
       "      <td>There is not any doubt that it is by means of ...</td>\n",
       "      <td>ID: http://data.odeuropa.eu/smell/ffffed12-e00...</td>\n",
       "      <td>doubt mean antenna bee recognize peculiar odou...</td>\n",
       "    </tr>\n",
       "  </tbody>\n",
       "</table>\n",
       "<p>1452087 rows × 3 columns</p>\n",
       "</div>"
      ],
      "text/plain": [
       "                                                      text  \\\n",
       "0        WM .GARDNER & SONS , Engineers , GLOUCESTER I ...   \n",
       "1        ) { ac ) Nerves of the septum nasi .{ aca ) Ol...   \n",
       "2        5 .Entirely volatilized by heat ; burns in air...   \n",
       "3        There are instruments for measuring the sense ...   \n",
       "4        THE POWDER , when exposed to the air , tut mor...   \n",
       "...                                                    ...   \n",
       "1452082  The effect produced on the bell wires was beau...   \n",
       "1452083  The common practice of burning scented paper ,...   \n",
       "1452084  â   In all ear and throat diseases cleanline...   \n",
       "1452085  Mr .Prosper himself was the stupidest ass ! At...   \n",
       "1452086  There is not any doubt that it is by means of ...   \n",
       "\n",
       "                                                    source  \\\n",
       "0        ID: http://data.odeuropa.eu/smell/00000d38-58e...   \n",
       "1        ID: http://data.odeuropa.eu/smell/00001f4d-842...   \n",
       "2        ID: http://data.odeuropa.eu/smell/00002376-b99...   \n",
       "3        ID: http://data.odeuropa.eu/smell/0000263b-7fd...   \n",
       "4        ID: http://data.odeuropa.eu/smell/00002ae9-624...   \n",
       "...                                                    ...   \n",
       "1452082  ID: http://data.odeuropa.eu/smell/ffffdd4d-cf7...   \n",
       "1452083  ID: http://data.odeuropa.eu/smell/ffffde20-a5b...   \n",
       "1452084  ID: http://data.odeuropa.eu/smell/ffffe215-eff...   \n",
       "1452085  ID: http://data.odeuropa.eu/smell/ffffe6f7-47d...   \n",
       "1452086  ID: http://data.odeuropa.eu/smell/ffffed12-e00...   \n",
       "\n",
       "                                                   content  \n",
       "0        wm gardner son engineer gloucester lii chemist...  \n",
       "1        ac nerve septum nasi aca olfactory nerve nn ol...  \n",
       "2        5 entirely volatilized heat burn air blue flam...  \n",
       "3        instrument measuring sense smell olfactometer ...  \n",
       "4        powder exposed air tut rapidly damped water wh...  \n",
       "...                                                    ...  \n",
       "1452082  effect produced bell wire wa beautiful beyond ...  \n",
       "1452083  common practice burning scented paper pastille...  \n",
       "1452084  ear throat disease cleanliness nose assist cur...  \n",
       "1452085  mr prosper wa stupidest welwyn people smelled ...  \n",
       "1452086  doubt mean antenna bee recognize peculiar odou...  \n",
       "\n",
       "[1452087 rows x 3 columns]"
      ]
     },
     "execution_count": 3,
     "metadata": {},
     "output_type": "execute_result"
    }
   ],
   "source": [
    "embedding_df"
   ]
  },
  {
   "cell_type": "code",
   "execution_count": 4,
   "id": "dcd06809-d062-4a63-880d-0de362e8db5e",
   "metadata": {},
   "outputs": [],
   "source": [
    "loader = DataFrameLoader(embedding_df, page_content_column=\"content\")\n",
    "docs = loader.load()"
   ]
  },
  {
   "cell_type": "code",
   "execution_count": 5,
   "id": "48498e08-7a99-4358-a1d6-32dc5c20a704",
   "metadata": {
    "scrolled": true
   },
   "outputs": [
    {
     "data": {
      "text/plain": [
       "Document(page_content='among number calculated several thou sand affected carbuncle glanders farcy stench abominable drain solid fluid preserved special purpose yet workman family stout healthy long lived must owing fact foul emanation people constantly inhale act preventive principle poison glanders hence poison might used remedial agent destructive effect book homopathic theory practice electronic resource homopathic treatment surgical disease designed student practitioner medicine guide intelligent public generally written charles j hempel 1872', metadata={'text': 'Among this number , it is calculated that several thou - sand are affected with carbuncle , glanders or farcy .The stench is abominable , for there is no drain ; all the solids and fluids are preserved for special purposes ; and yet all the workmen and their families are stout , healthy , and long - lived .This must be owing to the fact that the foul emanations , which these people constantly inhale , act as a preventive principle against the poison of glanders ; and hence this poison might be used as a remedial agent against its own destructive effects . from the book Homœopathic theory and practice [electronic resource] : with the homœopathic treatment of surgical diseases designed for students and practitioners of medicine, and as a guide for an intelligent public generally written by Charles J.  Hempel in 1872.', 'source': 'ID: http://data.odeuropa.eu/smell/000a4202-6f2c-5d31-9ff1-c0c414211e00 Source: http://data.odeuropa.eu/source/91c9acd4-6da3-5726-8147-743be5998e46'})"
      ]
     },
     "execution_count": 5,
     "metadata": {},
     "output_type": "execute_result"
    }
   ],
   "source": [
    "#random document\n",
    "docs[np.random.randint(low=1, high=1000)]"
   ]
  },
  {
   "cell_type": "code",
   "execution_count": 10,
   "id": "166e70b7-4b5d-4e0f-9bf7-e4a3c41c6213",
   "metadata": {},
   "outputs": [
    {
     "name": "stdout",
     "output_type": "stream",
     "text": [
      "CUDA is available. Number of GPUs: 4\n",
      "Current GPU: 3\n",
      "GPU Name: NVIDIA GeForce RTX 3090\n"
     ]
    }
   ],
   "source": [
    "# Set CUDA_VISIBLE_DEVICES to specify the GPU\n",
    "torch.cuda.set_device(3)\n",
    "os.environ[\"CUDA_VISIBLE_DEVICES\"] = \"3\"\n",
    "# Check if GPU (CUDA) is available\n",
    "if torch.cuda.is_available():\n",
    "    print(\"CUDA is available. Number of GPUs:\", torch.cuda.device_count())\n",
    "    current_device = torch.cuda.current_device()\n",
    "    print(\"Current GPU:\", current_device)\n",
    "    print(\"GPU Name:\", torch.cuda.get_device_name(current_device))\n",
    "else:\n",
    "    print(\"CUDA is not available. Using CPU.\")\n",
    "    current_device = torch.device(\"cpu\")"
   ]
  },
  {
   "cell_type": "code",
   "execution_count": 11,
   "id": "8a1111ca-1576-43d6-958e-75a75f695561",
   "metadata": {},
   "outputs": [],
   "source": [
    "model_kwargs = {'device':'cuda'}"
   ]
  },
  {
   "cell_type": "code",
   "execution_count": 12,
   "id": "d6e88c8c-ffa6-47cc-bc3c-a430c88a5a8d",
   "metadata": {},
   "outputs": [],
   "source": [
    "# create the open-source embedding function\n",
    "bge = SentenceTransformerEmbeddings(model_name='BAAI/bge-small-en-v1.5', model_kwargs=model_kwargs)"
   ]
  },
  {
   "cell_type": "code",
   "execution_count": 13,
   "id": "f0df5878-9287-43ad-9bae-38f7142185e0",
   "metadata": {},
   "outputs": [],
   "source": [
    "#load it into Chroma\n",
    "db_bge_swr_nck2 = Chroma.from_documents(docs,bge,persist_directory='../data/db_bge_swr_nck2')"
   ]
  },
  {
   "cell_type": "code",
   "execution_count": 32,
   "id": "bd645c8c-19f4-4cda-9a3f-8c23b1eda091",
   "metadata": {},
   "outputs": [],
   "source": [
    "#db_bge_swr_nck = Chroma(persist_directory=\"../data/db_bge_swr_nck\", embedding_function=bge)"
   ]
  },
  {
   "cell_type": "code",
   "execution_count": 16,
   "id": "c60e6bf1-d0db-48b5-ba52-44697ead4f20",
   "metadata": {},
   "outputs": [
    {
     "name": "stdout",
     "output_type": "stream",
     "text": [
      "(Document(page_content='tobacco ruminant quid point view flavour savour aroma tobacco shown positively resultant twenty four chemical ingredient naturally enter composition trouble reader learned catalogue weed con stituents besieging army wa plentifully supplied thing came thither sea meuse rich country brabant siege wa long continued brabanters many laro e machine threw town stone weight much damao e wherever fell addition flung town dead carrion tlie army empoison inhabitant stink wa sorely felt weather wa hot air calm carry villanous smell book smoker guide philosopher friend smoke smoke whole whats tobacco historical botanical manufactural anecdotal social medical c written andrew steinmetz 1881 ha smell source tobacco', metadata={'source': 'ID: http://data.odeuropa.eu/smell/506e488f-fe48-5995-a7f6-eb5c1c01a5ab Source: http://data.odeuropa.eu/source/6e2dbb08-4c39-5139-892a-fbbe5da00cee', 'text': 'OF TOBACCO IN THE RUMINANT OR QUID POINT OF VIEW .The flavour , savour , and aroma of Tobacco are as we have shown , positively the resultants of twenty - four chemical and other ingredients Which naturally enter into its composition .We will not trouble the reader with the learned catalogue of the Weedâ \\x80 \\x99 s con - stituents ., The besieging army was plentifully supplied with all things that came thither by sea , or down the Meuse , from the rich country of Brabant , so that the siege was long continued ; and the Brabanters had many laro - e machines which threw into the town stones of such weight as to do much damao - e wherever they fell .In addition , they flung into the town all the dead carrion of tlie army to empoison the inhabitants by the stink .This was sorely felt by them , for the weather was hot , and the air too calm to carry off these villanous smells . from the book The smoker\\'s guide, philosopher and friend : What to smoke -what to smoke with - and the whole \"What\\'s what\" of tobacco, historical, botanical, manufactural, anecdotal, social, medical, &c written by Andrew Steinmetz in 1881 has smell source Tobacco.'}), 0.36823463439941406)\n",
      "(Document(page_content='tobacco ruminant quid point view flavour savour aroma tobacco shown positively resultant twenty four chemical ingredient naturally enter composition trouble reader learned catalogue weed con stituents besieging army wa plentifully supplied thing came thither sea meuse rich country brabant siege wa long continued brabanters many laro e machine threw town stone weight much damao e wherever fell addition flung town dead carrion tlie army empoison inhabitant stink wa sorely felt weather wa hot air calm carry villanous smell book smoker guide philosopher friend smoke smoke whole whats tobacco historical botanical manufactural anecdotal social medical c written andrew steinmetz 1881 ha smell source tobacco', metadata={'source': 'ID: http://data.odeuropa.eu/smell/506e488f-fe48-5995-a7f6-eb5c1c01a5ab Source: http://data.odeuropa.eu/source/6e2dbb08-4c39-5139-892a-fbbe5da00cee', 'text': 'OF TOBACCO IN THE RUMINANT OR QUID POINT OF VIEW .The flavour , savour , and aroma of Tobacco are as we have shown , positively the resultants of twenty - four chemical and other ingredients Which naturally enter into its composition .We will not trouble the reader with the learned catalogue of the Weedâ \\x80 \\x99 s con - stituents ., The besieging army was plentifully supplied with all things that came thither by sea , or down the Meuse , from the rich country of Brabant , so that the siege was long continued ; and the Brabanters had many laro - e machines which threw into the town stones of such weight as to do much damao - e wherever they fell .In addition , they flung into the town all the dead carrion of tlie army to empoison the inhabitants by the stink .This was sorely felt by them , for the weather was hot , and the air too calm to carry off these villanous smells . from the book The smoker\\'s guide, philosopher and friend : What to smoke -what to smoke with - and the whole \"What\\'s what\" of tobacco, historical, botanical, manufactural, anecdotal, social, medical, &c written by Andrew Steinmetz in 1881 has smell source Tobacco.'}), 0.36823463439941406)\n",
      "(Document(page_content='really cruelty olfactory olfactory reasonably object ethereal vapour tobacco bury alive dust slake filthy liquor perhaps compounded sal ammoniac yellow ochre red lead diabolical concoction hard bear even nerve nose con demned without possibility spontaneous defence smell manner thing manner shape incidental economy man universal nature peculiar titillation snuff taker enjoy procured augmenting dose snuff book smoker guide philosopher friend smoke smoke whole whats tobacco 1876 ha smell source vapour', metadata={'source': 'ID: http://data.odeuropa.eu/smell/6a0d99da-8123-5363-980f-12b30a66d760 Source: http://data.odeuropa.eu/source/ebe8379e-572b-54c9-997b-85949597c4e4', 'text': 'â \\x80 \\x9d It is really a cruelty to the olfactory .The olfactory cannot reasonably object to the ethereal vapour of Tobacco , but to bury it alive in dust , to slake it with filthy liquor , perhaps compounded of sal - ammoniac , yellow ochre , red lead , and other diabolical concoctions , is too hard to bear , even for a nerve of the nose , con - demned as it is , without the possibility of spontaneous defence , to smell all manner of things , in all manner of shapes , incidental to the economy of man and universal nature .The peculiar titillation which snuff - takers enjoy can be procured only by augmenting the dose of snuff . from the book The smoker\\'s guide, philosopher and friend : what to smoke - what to smoke with - and the whole \"what\\'s what\" of tobacco... in 1876 has smell source Vapour.'}), 0.3726099133491516)\n",
      "(Document(page_content='really cruelty olfactory olfactory reasonably object ethereal vapour tobacco bury alive dust slake filthy liquor perhaps compounded sal ammoniac yellow ochre red lead diabolical concoction hard bear even nerve nose con demned without possibility spontaneous defence smell manner thing manner shape incidental economy man universal nature peculiar titillation snuff taker enjoy procured augmenting dose snuff book smoker guide philosopher friend smoke smoke whole whats tobacco 1876 ha smell source vapour', metadata={'source': 'ID: http://data.odeuropa.eu/smell/6a0d99da-8123-5363-980f-12b30a66d760 Source: http://data.odeuropa.eu/source/ebe8379e-572b-54c9-997b-85949597c4e4', 'text': 'â \\x80 \\x9d It is really a cruelty to the olfactory .The olfactory cannot reasonably object to the ethereal vapour of Tobacco , but to bury it alive in dust , to slake it with filthy liquor , perhaps compounded of sal - ammoniac , yellow ochre , red lead , and other diabolical concoctions , is too hard to bear , even for a nerve of the nose , con - demned as it is , without the possibility of spontaneous defence , to smell all manner of things , in all manner of shapes , incidental to the economy of man and universal nature .The peculiar titillation which snuff - takers enjoy can be procured only by augmenting the dose of snuff . from the book The smoker\\'s guide, philosopher and friend : what to smoke - what to smoke with - and the whole \"what\\'s what\" of tobacco... in 1876 has smell source Vapour.'}), 0.3726099133491516)\n",
      "(Document(page_content='1876 two men tobacco smoker smoked called tobacco diffused diffused rather pleasing aroma served deaden unpleasantness tobacco smoke composed various dried aromatic herb believe recommended faculty many disorder book great frozen sea personal narrative voyage alert arctic expedition 1875 6 written albert hastings markham 1878 ha smell source tobacco envokes emotion relief', metadata={'source': 'ID: http://data.odeuropa.eu/smell/94ca85d0-d042-5c0e-be1a-3e15fc49410c Source: http://data.odeuropa.eu/source/0f7aa13a-c15e-55b8-9edf-a690ea971690', 'text': '1876 .Two of the men , who are not tobacco smokers , smoked what they called tobacco , which diffused diffused a rather pleasing aroma , and served to deaden the unpleasantness of the tobacco smoke .It is composed of various dried aromatic herbs , and is , I believe , recommended by the faculty for many disorders . from the book Great Frozen Sea. A personal narrative of the voyage of the “Alert” during the Arctic Expedition of 1875, 6 written by Albert Hastings MARKHAM in 1878 has smell source Tobacco. envokes emotions relief'}), 0.41065770387649536)\n"
     ]
    }
   ],
   "source": [
    "query = \"What was the tobacco smelled like in 1800s \"\n",
    "retrived_docs = db_bge_swr_nck2.similarity_search_with_score(query,k=5)\n",
    "\n",
    "# print results\n",
    "for retrived_doc in retrived_docs:\n",
    "  print(retrived_doc)"
   ]
  },
  {
   "cell_type": "markdown",
   "id": "4def2950-4ba5-48a1-bed4-8b3bcadd1e8d",
   "metadata": {},
   "source": [
    "## LLM"
   ]
  },
  {
   "cell_type": "code",
   "execution_count": 23,
   "id": "bcf74246-6d23-4a65-ba18-32493525aa95",
   "metadata": {},
   "outputs": [],
   "source": [
    "os.environ[\"OPENAI_API_KEY\"] = \"\""
   ]
  },
  {
   "cell_type": "code",
   "execution_count": 38,
   "id": "46463a8d-9eb9-4b97-9f33-bccef8d45c92",
   "metadata": {},
   "outputs": [],
   "source": [
    "summary_template = \"\"\"Generate a standalone question which is based on the new question plus the chat history. Just create the standalone question without commentary.\n",
    "\n",
    "Chat History:\n",
    "{chat_history}\n",
    "New question: {question}\n",
    "Standalone question:\"\"\"\n",
    "\n",
    "summary_template = \"\"\"Rewrite the question to make it optimal for retrieval of context from a vector database. Return only the new, rewritten question\n",
    "Question: {question}\n",
    "\"\"\"\n",
    "\n",
    "summary_prompt = PromptTemplate.from_template(summary_template)\n",
    "\n",
    "question_template = \"\"\"Answer the question based only on the following context:\n",
    "{context}\n",
    "\n",
    "Question: {question}\n",
    "\"\"\"\n",
    "question_prompt = ChatPromptTemplate.from_template(question_template)"
   ]
  },
  {
   "cell_type": "code",
   "execution_count": 25,
   "id": "57313226-8011-441d-a7ce-db8ba1efdf0b",
   "metadata": {},
   "outputs": [],
   "source": [
    "retriever = clean_vectordb.as_retriever(search_kwargs={\"k\": 5})\n",
    "model = ChatOpenAI()\n",
    "output_parser = StrOutputParser()\n",
    "\n",
    "summary_chain = summary_prompt | model | output_parser\n",
    "\n",
    "retrieve_context = RunnableParallel({'context': retriever, 'question': RunnablePassthrough()})\n",
    "\n",
    "standalone_chain = question_prompt | model | output_parser"
   ]
  },
  {
   "cell_type": "code",
   "execution_count": 40,
   "id": "65e365a7-6fcd-405f-a08d-4479f7c35ce7",
   "metadata": {},
   "outputs": [],
   "source": [
    "def chat(chat_history, question):\n",
    "  if len(chat_history) == 0:\n",
    "    standalone_question = question\n",
    "  else:\n",
    "    summary_chain_input = {'chat_history': chat_history, 'question': question}\n",
    "    standalone_question = summary_chain.invoke(summary_chain_input)\n",
    "\n",
    "  retrieval = retrieve_context.invoke(standalone_question)\n",
    "  new_context = retrieval[\"context\"]\n",
    "  # print(new_context)\n",
    "  # print(type(new_context))\n",
    "\n",
    "  source_list = [(docum.metadata['source']) for docum in new_context]\n",
    "  # for docum in new_context:\n",
    "  #   print(docum)\n",
    "        # print(source_list)\n",
    "  # print(type(source_list))\n",
    "\n",
    "\n",
    "  text_list = [(\"Text \"+str(new_context.index(docum)+1) + \": \" + docum.metadata['text']) for docum in new_context]\n",
    "  print(text_list)\n",
    "  # print(type(text_list))\n",
    "\n",
    "\n",
    "  #Can make decision how many docs to use for relevant answer. Need to check retrieval (because DB is not working)\n",
    "  answer = standalone_chain.invoke({\"context\": str(text_list), \"question\": standalone_question})\n",
    "  chat_history.append({'question': standalone_question, 'answer': answer})\n",
    "  if len(chat_history) > 3:\n",
    "    chat_history = chat_history[1:]\n",
    "\n",
    "  return source_list, chat_history, answer, standalone_question"
   ]
  },
  {
   "cell_type": "code",
   "execution_count": 47,
   "id": "cf06b7cd-069f-4934-817c-d756f582a28e",
   "metadata": {},
   "outputs": [
    {
     "name": "stdout",
     "output_type": "stream",
     "text": [
      "['Text 1: â \\x80 \\x99 Its sweet - scented blossoms , whose smell resembles that of the Almond , are striped - with white and rose colours , and with its leaves of a delicate green , trail along the meadow , or around the trunks of trees , and sometimes support themselves by clinging to the corn .The fragrance of these flowers may be enjoyed by all during the summer and autumnal months , with the many others to be found in every spot where the grass is growing and the wild - flowers budding .Other dainty kinds will be found under Ipomcua . from the book Sweet-scented flowers and fragrant leaves : interesting associations gathered from many sources, with notes on their history and utility written by Donald McDonald in 1895 has smell source Flower.', 'Text 2: The scent which is liberated from the flowers of the Tree of Heaven ( Ailanthus ) , of the Horse - chestnut ( AEsculus Hippocastanum ) , of the Flowering Ash ( Fraxinus Ornus ) , and of the Evening Primrose ( ( Enothera ) , resembles that of Crataegus more remotely .The flowers of the Ivy ( Hedera ) develop a scent which reminds one of herring - pickle , those of the Alpine Poppy ( Papaver aVpinvmi ) , partly of Hawthorn , partly of Musk .Two North American plants , viz . from the book Des tumeurs fibro-plastiques sous-cutanées des membres written by Lucien Bourdy in 1868 has smell source Musk, Hawthorn.', 'Text 3: The scent which is liberated from the flowers of the Tree of Heaven ( Ailanthus ) , of the Horse - chestnut ( AEsculus Hippocastanvmi ) , of the Flowering Ash ( Fraxinus Ornus ) , and of the Evening Primrose ( ( Enothera ) , resembles that of Crataegus more remotely .The flowers of the Ivy ( Hedera ) develop a scent which reminds one of herring - pickle , those of the Alpine Poppy ( Papaver alpinum ) , partly of Hawthorn , partly of Musk .Two North American plants , viz . from the book The science of creation and art of reproduction written by William Windsor in 1890 has smell source Musk, Hawthorn.', 'Text 4: The flowers have a sweet taste , Darakht - i - gulchakan â \\x80 \\x94 in allusion to its deciduous flowers , Characters .â \\x80 \\x94 Small white flowers , generally deciduous ; the ripe flowers are fleshy and smell like that of jaradalu and have a sickly acid and sweet taste .The dry ones resemble dried raisins in appearance and colour ; fleshy , sticky , and compressed or hollow , with an aperture at both ends ; upper end much larger and many toothed . from the book Semiotica morborum infantilium in excerptis : dissertatio inauguralis medica ... written by János Karácsonyi in 1843 has smell source White flower.', 'Text 5: The richly scented flowers of Convolvulus arvensis are far more abundantly visited than the larger and more conspicuous but scentless flowers of C .seyium ; the sweet - scented Violet is much more visited than the large , brightly coloured , but scentless Pansy ; the small , insignificant , but strongly perfumed flowers of Lcpidium sativum surpass in the abundance of their visitors the other more conspicuous but scentless Crucifers ./ 3 . from the book The fertilisation of flowers written by Hermann. nr2007011391 Müller in 1883 has smell source Violet.']\n"
     ]
    }
   ],
   "source": [
    "sources,chathistory,answer, question = chat([\"\"],'Describe the scent of flower')"
   ]
  },
  {
   "cell_type": "code",
   "execution_count": 48,
   "id": "a4ce15e0-6ce8-4229-90e8-8116f5187cac",
   "metadata": {},
   "outputs": [
    {
     "name": "stdout",
     "output_type": "stream",
     "text": [
      "['ID: http://data.odeuropa.eu/smell/fe82606b-9dd2-5861-bf15-7b7621b72247 Source: http://data.odeuropa.eu/source/e9fb1425-e8f0-5209-a531-4213bc540732', 'ID: http://data.odeuropa.eu/smell/ef1c4900-fc24-5145-a019-5e74cfc70466 Source: http://data.odeuropa.eu/source/5d86299a-f718-570b-a1d6-5171545c4b1c', 'ID: http://data.odeuropa.eu/smell/1affd04b-67e2-516d-af5e-70c3b37c41d9 Source: http://data.odeuropa.eu/source/733bcb91-61f6-5875-846a-f3549ce52672', 'ID: http://data.odeuropa.eu/smell/3b0d07c8-21fc-5d70-a7d7-e596d3c651bb Source: http://data.odeuropa.eu/source/d50a6c56-4ad9-5923-8c24-db25fbc191a0', 'ID: http://data.odeuropa.eu/smell/e1f0af2f-34e0-58ba-b331-b0bf7baa73ac Source: http://data.odeuropa.eu/source/19e62cba-cab8-5b71-a8b5-43687eed62d2'] ['', {'question': 'What is the scent of a flower like?', 'answer': 'Based on the given context, the scent of a flower can be described as sweet-scented, resembling that of the Almond, striped with white and rose colors, resembling that of Crataegus, resembling herring-pickle, and resembling musk and hawthorn.'}] Based on the given context, the scent of a flower can be described as sweet-scented, resembling that of the Almond, striped with white and rose colors, resembling that of Crataegus, resembling herring-pickle, and resembling musk and hawthorn. What is the scent of a flower like?\n"
     ]
    }
   ],
   "source": [
    "print(sources,chathistory,answer, question)"
   ]
  },
  {
   "cell_type": "code",
   "execution_count": null,
   "id": "e9651c5f-0b3a-432f-9542-67903cb9293d",
   "metadata": {},
   "outputs": [],
   "source": []
  }
 ],
 "metadata": {
  "kernelspec": {
   "display_name": "Python 3 (ipykernel)",
   "language": "python",
   "name": "python3"
  },
  "language_info": {
   "codemirror_mode": {
    "name": "ipython",
    "version": 3
   },
   "file_extension": ".py",
   "mimetype": "text/x-python",
   "name": "python",
   "nbconvert_exporter": "python",
   "pygments_lexer": "ipython3",
   "version": "3.10.13"
  }
 },
 "nbformat": 4,
 "nbformat_minor": 5
}
