{
 "cells": [
  {
   "cell_type": "code",
   "execution_count": 1,
   "id": "cd7aabc5-34c7-4808-a496-f8fa260ae72e",
   "metadata": {},
   "outputs": [
    {
     "name": "stdout",
     "output_type": "stream",
     "text": [
      "# packages in environment at /home/adhikari/.conda/envs/semproc:\n",
      "#\n",
      "# Name                    Version                   Build  Channel\n",
      "_libgcc_mutex             0.1                        main  \n",
      "_openmp_mutex             5.1                       1_gnu  \n",
      "anyio                     4.2.0                    pypi_0    pypi\n",
      "argon2-cffi               21.3.0             pyhd3eb1b0_0  \n",
      "argon2-cffi-bindings      21.2.0                   pypi_0    pypi\n",
      "asttokens                 2.0.5              pyhd3eb1b0_0  \n",
      "async-lru                 2.0.4                    pypi_0    pypi\n",
      "attrs                     23.1.0                   pypi_0    pypi\n",
      "babel                     2.11.0                   pypi_0    pypi\n",
      "beautifulsoup4            4.12.2                   pypi_0    pypi\n",
      "bleach                    4.1.0              pyhd3eb1b0_0  \n",
      "brotli                    1.0.9                    pypi_0    pypi\n",
      "brotli-python             1.0.9           py310h6a678d5_7  \n",
      "bzip2                     1.0.8                h7b6447c_0  \n",
      "ca-certificates           2023.12.12           h06a4308_0  \n",
      "certifi                   2023.11.17               pypi_0    pypi\n",
      "cffi                      1.16.0                   pypi_0    pypi\n",
      "charset-normalizer        2.0.4              pyhd3eb1b0_0  \n",
      "comm                      0.1.2                    pypi_0    pypi\n",
      "cryptography              41.0.7                   pypi_0    pypi\n",
      "cyrus-sasl                2.1.28               h52b45da_1  \n",
      "dbus                      1.13.18              hb2f20db_0  \n",
      "debugpy                   1.6.7                    pypi_0    pypi\n",
      "decorator                 5.1.1              pyhd3eb1b0_0  \n",
      "defusedxml                0.7.1              pyhd3eb1b0_0  \n",
      "exceptiongroup            1.2.0                    pypi_0    pypi\n",
      "executing                 0.8.3              pyhd3eb1b0_0  \n",
      "expat                     2.5.0                h6a678d5_0  \n",
      "fastjsonschema            2.16.2                   pypi_0    pypi\n",
      "filelock                  3.13.1                   pypi_0    pypi\n",
      "fontconfig                2.14.1               h4c34cd2_2  \n",
      "freetype                  2.12.1               h4a9f257_0  \n",
      "fsspec                    2023.12.2                pypi_0    pypi\n",
      "glib                      2.69.1               he621ea3_2  \n",
      "gst-plugins-base          1.14.1               h6a678d5_1  \n",
      "gstreamer                 1.14.1               h5eee18b_1  \n",
      "icu                       73.1                 h6a678d5_0  \n",
      "idna                      3.4                      pypi_0    pypi\n",
      "ipykernel                 6.28.0                   pypi_0    pypi\n",
      "ipython                   8.20.0                   pypi_0    pypi\n",
      "ipywidgets                8.0.4                    pypi_0    pypi\n",
      "jedi                      0.18.1                   pypi_0    pypi\n",
      "jinja2                    3.1.2                    pypi_0    pypi\n",
      "jpeg                      9e                   h5eee18b_1  \n",
      "json5                     0.9.6              pyhd3eb1b0_0  \n",
      "jsonschema                4.19.2                   pypi_0    pypi\n",
      "jsonschema-specifications 2023.7.1                 pypi_0    pypi\n",
      "jupyter                   1.0.0                    pypi_0    pypi\n",
      "jupyter-client            8.6.0                    pypi_0    pypi\n",
      "jupyter-console           6.6.3                    pypi_0    pypi\n",
      "jupyter-core              5.5.0                    pypi_0    pypi\n",
      "jupyter-events            0.8.0                    pypi_0    pypi\n",
      "jupyter-lsp               2.2.0                    pypi_0    pypi\n",
      "jupyter-server            2.10.0                   pypi_0    pypi\n",
      "jupyter-server-terminals  0.4.4                    pypi_0    pypi\n",
      "jupyter_client            8.6.0           py310h06a4308_0  \n",
      "jupyter_console           6.6.3           py310h06a4308_0  \n",
      "jupyter_core              5.5.0           py310h06a4308_0  \n",
      "jupyter_events            0.8.0           py310h06a4308_0  \n",
      "jupyter_server            2.10.0          py310h06a4308_0  \n",
      "jupyter_server_terminals  0.4.4           py310h06a4308_1  \n",
      "jupyterlab                4.0.8                    pypi_0    pypi\n",
      "jupyterlab-server         2.25.1                   pypi_0    pypi\n",
      "jupyterlab-widgets        3.0.9                    pypi_0    pypi\n",
      "jupyterlab_pygments       0.1.2                      py_0  \n",
      "jupyterlab_server         2.25.1          py310h06a4308_0  \n",
      "jupyterlab_widgets        3.0.9           py310h06a4308_0  \n",
      "krb5                      1.20.1               h143b758_1  \n",
      "ld_impl_linux-64          2.38                 h1181459_1  \n",
      "libclang                  14.0.6          default_hc6dbbc7_1  \n",
      "libclang13                14.0.6          default_he11475f_1  \n",
      "libcups                   2.4.2                h2d74bed_1  \n",
      "libedit                   3.1.20230828         h5eee18b_0  \n",
      "libffi                    3.4.4                h6a678d5_0  \n",
      "libgcc-ng                 11.2.0               h1234567_1  \n",
      "libgomp                   11.2.0               h1234567_1  \n",
      "libllvm14                 14.0.6               hdb19cb5_3  \n",
      "libpng                    1.6.39               h5eee18b_0  \n",
      "libpq                     12.17                hdbd6064_0  \n",
      "libsodium                 1.0.18               h7b6447c_0  \n",
      "libstdcxx-ng              11.2.0               h1234567_1  \n",
      "libuuid                   1.41.5               h5eee18b_0  \n",
      "libxcb                    1.15                 h7f8727e_0  \n",
      "libxkbcommon              1.0.1                h5eee18b_1  \n",
      "libxml2                   2.10.4               hf1b16e4_1  \n",
      "lz4-c                     1.9.4                h6a678d5_0  \n",
      "markupsafe                2.1.3                    pypi_0    pypi\n",
      "matplotlib-inline         0.1.6                    pypi_0    pypi\n",
      "mistune                   2.0.4                    pypi_0    pypi\n",
      "mpmath                    1.3.0                    pypi_0    pypi\n",
      "mysql                     5.7.24               h721c034_2  \n",
      "nbclient                  0.8.0                    pypi_0    pypi\n",
      "nbconvert                 7.10.0                   pypi_0    pypi\n",
      "nbformat                  5.9.2                    pypi_0    pypi\n",
      "ncurses                   6.4                  h6a678d5_0  \n",
      "nest-asyncio              1.5.6                    pypi_0    pypi\n",
      "networkx                  3.2.1                    pypi_0    pypi\n",
      "notebook                  7.0.6                    pypi_0    pypi\n",
      "notebook-shim             0.2.3                    pypi_0    pypi\n",
      "nvidia-cublas-cu12        12.1.3.1                 pypi_0    pypi\n",
      "nvidia-cuda-cupti-cu12    12.1.105                 pypi_0    pypi\n",
      "nvidia-cuda-nvrtc-cu12    12.1.105                 pypi_0    pypi\n",
      "nvidia-cuda-runtime-cu12  12.1.105                 pypi_0    pypi\n",
      "nvidia-cudnn-cu12         8.9.2.26                 pypi_0    pypi\n",
      "nvidia-cufft-cu12         11.0.2.54                pypi_0    pypi\n",
      "nvidia-curand-cu12        10.3.2.106               pypi_0    pypi\n",
      "nvidia-cusolver-cu12      11.4.5.107               pypi_0    pypi\n",
      "nvidia-cusparse-cu12      12.1.0.106               pypi_0    pypi\n",
      "nvidia-nccl-cu12          2.18.1                   pypi_0    pypi\n",
      "nvidia-nvjitlink-cu12     12.3.101                 pypi_0    pypi\n",
      "nvidia-nvtx-cu12          12.1.105                 pypi_0    pypi\n",
      "openssl                   3.0.12               h7f8727e_0  \n",
      "overrides                 7.4.0                    pypi_0    pypi\n",
      "packaging                 23.1                     pypi_0    pypi\n",
      "pandocfilters             1.5.0              pyhd3eb1b0_0  \n",
      "parso                     0.8.3              pyhd3eb1b0_0  \n",
      "pcre                      8.45                 h295c915_0  \n",
      "pexpect                   4.8.0              pyhd3eb1b0_3  \n",
      "pip                       23.3.1                   pypi_0    pypi\n",
      "platformdirs              3.10.0                   pypi_0    pypi\n",
      "ply                       3.11                     pypi_0    pypi\n",
      "prometheus-client         0.14.1                   pypi_0    pypi\n",
      "prometheus_client         0.14.1          py310h06a4308_0  \n",
      "prompt-toolkit            3.0.43                   pypi_0    pypi\n",
      "prompt_toolkit            3.0.43               hd3eb1b0_0  \n",
      "psutil                    5.9.0                    pypi_0    pypi\n",
      "ptyprocess                0.7.0              pyhd3eb1b0_2  \n",
      "pure_eval                 0.2.2              pyhd3eb1b0_0  \n",
      "pycparser                 2.21               pyhd3eb1b0_0  \n",
      "pygments                  2.15.1                   pypi_0    pypi\n",
      "pyopenssl                 23.2.0                   pypi_0    pypi\n",
      "pyqt                      5.15.10         py310h6a678d5_0  \n",
      "pyqt5                     5.15.10                  pypi_0    pypi\n",
      "pyqt5-sip                 12.13.0                  pypi_0    pypi\n",
      "pysocks                   1.7.1                    pypi_0    pypi\n",
      "python                    3.10.13              h955ad1f_0  \n",
      "python-dateutil           2.8.2              pyhd3eb1b0_0  \n",
      "python-fastjsonschema     2.16.2          py310h06a4308_0  \n",
      "python-json-logger        2.0.7                    pypi_0    pypi\n",
      "pytz                      2023.3.post1             pypi_0    pypi\n",
      "pyyaml                    6.0.1                    pypi_0    pypi\n",
      "pyzmq                     25.1.2                   pypi_0    pypi\n",
      "qt-main                   5.15.2              h53bd1ea_10  \n",
      "qtconsole                 5.5.0                    pypi_0    pypi\n",
      "qtpy                      2.4.1                    pypi_0    pypi\n",
      "readline                  8.2                  h5eee18b_0  \n",
      "referencing               0.30.2                   pypi_0    pypi\n",
      "requests                  2.31.0                   pypi_0    pypi\n",
      "rfc3339-validator         0.1.4                    pypi_0    pypi\n",
      "rfc3986-validator         0.1.1                    pypi_0    pypi\n",
      "rpds-py                   0.10.6                   pypi_0    pypi\n",
      "send2trash                1.8.2                    pypi_0    pypi\n",
      "setuptools                68.2.2                   pypi_0    pypi\n",
      "sip                       6.7.12                   pypi_0    pypi\n",
      "six                       1.16.0             pyhd3eb1b0_1  \n",
      "sniffio                   1.3.0                    pypi_0    pypi\n",
      "soupsieve                 2.5                      pypi_0    pypi\n",
      "sqlite                    3.41.2               h5eee18b_0  \n",
      "stack_data                0.2.0              pyhd3eb1b0_0  \n",
      "sympy                     1.12                     pypi_0    pypi\n",
      "terminado                 0.17.1                   pypi_0    pypi\n",
      "tinycss2                  1.2.1                    pypi_0    pypi\n",
      "tk                        8.6.12               h1ccaba5_0  \n",
      "tomli                     2.0.1                    pypi_0    pypi\n",
      "torch                     2.1.2                    pypi_0    pypi\n",
      "tornado                   6.3.3                    pypi_0    pypi\n",
      "traitlets                 5.7.1                    pypi_0    pypi\n",
      "triton                    2.1.0                    pypi_0    pypi\n",
      "typing-extensions         4.9.0                    pypi_0    pypi\n",
      "typing_extensions         4.9.0           py310h06a4308_1  \n",
      "tzdata                    2023d                h04d1e81_0  \n",
      "urllib3                   1.26.18                  pypi_0    pypi\n",
      "wcwidth                   0.2.5              pyhd3eb1b0_0  \n",
      "webencodings              0.5.1                    pypi_0    pypi\n",
      "websocket-client          0.58.0                   pypi_0    pypi\n",
      "wheel                     0.41.2                   pypi_0    pypi\n",
      "widgetsnbextension        4.0.5                    pypi_0    pypi\n",
      "xz                        5.4.5                h5eee18b_0  \n",
      "yaml                      0.2.5                h7b6447c_0  \n",
      "zeromq                    4.3.5                h6a678d5_0  \n",
      "zlib                      1.2.13               h5eee18b_0  \n",
      "zstd                      1.5.5                hc292b87_0  \n"
     ]
    }
   ],
   "source": [
    "! conda list"
   ]
  },
  {
   "cell_type": "markdown",
   "id": "48c183f5-004a-4bfc-b10c-b4515dabe9a7",
   "metadata": {},
   "source": [
    "Installed newer version of torch"
   ]
  },
  {
   "cell_type": "code",
   "execution_count": 5,
   "id": "8a052a6b-5ddc-4729-9308-598876d9be34",
   "metadata": {},
   "outputs": [
    {
     "name": "stderr",
     "output_type": "stream",
     "text": [
      "/home/adhikari/.conda/envs/semproc/lib/python3.10/site-packages/torch/nn/modules/transformer.py:20: UserWarning: Failed to initialize NumPy: No module named 'numpy' (Triggered internally at ../torch/csrc/utils/tensor_numpy.cpp:84.)\n",
      "  device: torch.device = torch.device(torch._C._get_default_device()),  # torch.device('cpu'),\n"
     ]
    },
    {
     "name": "stdout",
     "output_type": "stream",
     "text": [
      "Num GPUs Available:  4\n"
     ]
    }
   ],
   "source": [
    "import torch\n",
    "print(\"Num GPUs Available: \", torch.cuda.device_count())\n"
   ]
  },
  {
   "cell_type": "code",
   "execution_count": 8,
   "id": "959a4feb-a372-4ba8-8dee-8591cba1bcdb",
   "metadata": {},
   "outputs": [
    {
     "name": "stdout",
     "output_type": "stream",
     "text": [
      "CUDA (GPU) is not available on this system.\n"
     ]
    }
   ],
   "source": [
    "import torch\n",
    "\n",
    "# Check if CUDA (GPU support) is available\n",
    "if torch.cuda.is_available():\n",
    "    # Get the number of available GPUs\n",
    "    num_gpus = torch.cuda.device_count()\n",
    "\n",
    "    print(f\"Number of available GPUs: {num_gpus}\")\n",
    "\n",
    "    # Get information about each GPU\n",
    "    for i in range(num_gpus):\n",
    "        gpu_name = torch.cuda.get_device_name(i)\n",
    "        gpu_memory = torch.cuda.get_device_properties(i).total_memory / 1e9  # Convert bytes to gigabytes\n",
    "\n",
    "        print(f\"GPU {i + 1}: {gpu_name}\")\n",
    "        print(f\"  Total GPU Memory: {gpu_memory:.2f} GB\")\n",
    "\n",
    "    # Set the default device to the first GPU\n",
    "    torch.cuda.set_device(0)\n",
    "\n",
    "else:\n",
    "    print(\"CUDA (GPU) is not available on this system.\")\n"
   ]
  },
  {
   "cell_type": "code",
   "execution_count": 10,
   "id": "ff9476cd-6480-4446-8cc3-c4a1c5d7daa7",
   "metadata": {},
   "outputs": [
    {
     "ename": "RuntimeError",
     "evalue": "The NVIDIA driver on your system is too old (found version 11040). Please update your GPU driver by downloading and installing a new version from the URL: http://www.nvidia.com/Download/index.aspx Alternatively, go to: https://pytorch.org to install a PyTorch version that has been compiled with your version of the CUDA driver.",
     "output_type": "error",
     "traceback": [
      "\u001b[0;31m---------------------------------------------------------------------------\u001b[0m",
      "\u001b[0;31mRuntimeError\u001b[0m                              Traceback (most recent call last)",
      "Cell \u001b[0;32mIn[10], line 1\u001b[0m\n\u001b[0;32m----> 1\u001b[0m \u001b[43mtorch\u001b[49m\u001b[38;5;241;43m.\u001b[39;49m\u001b[43mcuda\u001b[49m\u001b[38;5;241;43m.\u001b[39;49m\u001b[43mget_device_name\u001b[49m\u001b[43m(\u001b[49m\u001b[38;5;241;43m1\u001b[39;49m\u001b[43m)\u001b[49m\n",
      "File \u001b[0;32m/home/adhikari/.conda/envs/semproc/lib/python3.10/site-packages/torch/cuda/__init__.py:419\u001b[0m, in \u001b[0;36mget_device_name\u001b[0;34m(device)\u001b[0m\n\u001b[1;32m    407\u001b[0m \u001b[38;5;28;01mdef\u001b[39;00m \u001b[38;5;21mget_device_name\u001b[39m(device: Optional[_device_t] \u001b[38;5;241m=\u001b[39m \u001b[38;5;28;01mNone\u001b[39;00m) \u001b[38;5;241m-\u001b[39m\u001b[38;5;241m>\u001b[39m \u001b[38;5;28mstr\u001b[39m:\n\u001b[1;32m    408\u001b[0m \u001b[38;5;250m    \u001b[39m\u001b[38;5;124mr\u001b[39m\u001b[38;5;124;03m\"\"\"Gets the name of a device.\u001b[39;00m\n\u001b[1;32m    409\u001b[0m \n\u001b[1;32m    410\u001b[0m \u001b[38;5;124;03m    Args:\u001b[39;00m\n\u001b[0;32m   (...)\u001b[0m\n\u001b[1;32m    417\u001b[0m \u001b[38;5;124;03m        str: the name of the device\u001b[39;00m\n\u001b[1;32m    418\u001b[0m \u001b[38;5;124;03m    \"\"\"\u001b[39;00m\n\u001b[0;32m--> 419\u001b[0m     \u001b[38;5;28;01mreturn\u001b[39;00m \u001b[43mget_device_properties\u001b[49m\u001b[43m(\u001b[49m\u001b[43mdevice\u001b[49m\u001b[43m)\u001b[49m\u001b[38;5;241m.\u001b[39mname\n",
      "File \u001b[0;32m/home/adhikari/.conda/envs/semproc/lib/python3.10/site-packages/torch/cuda/__init__.py:449\u001b[0m, in \u001b[0;36mget_device_properties\u001b[0;34m(device)\u001b[0m\n\u001b[1;32m    439\u001b[0m \u001b[38;5;28;01mdef\u001b[39;00m \u001b[38;5;21mget_device_properties\u001b[39m(device: _device_t) \u001b[38;5;241m-\u001b[39m\u001b[38;5;241m>\u001b[39m _CudaDeviceProperties:\n\u001b[1;32m    440\u001b[0m \u001b[38;5;250m    \u001b[39m\u001b[38;5;124mr\u001b[39m\u001b[38;5;124;03m\"\"\"Gets the properties of a device.\u001b[39;00m\n\u001b[1;32m    441\u001b[0m \n\u001b[1;32m    442\u001b[0m \u001b[38;5;124;03m    Args:\u001b[39;00m\n\u001b[0;32m   (...)\u001b[0m\n\u001b[1;32m    447\u001b[0m \u001b[38;5;124;03m        _CudaDeviceProperties: the properties of the device\u001b[39;00m\n\u001b[1;32m    448\u001b[0m \u001b[38;5;124;03m    \"\"\"\u001b[39;00m\n\u001b[0;32m--> 449\u001b[0m     \u001b[43m_lazy_init\u001b[49m\u001b[43m(\u001b[49m\u001b[43m)\u001b[49m  \u001b[38;5;66;03m# will define _get_device_properties\u001b[39;00m\n\u001b[1;32m    450\u001b[0m     device \u001b[38;5;241m=\u001b[39m _get_device_index(device, optional\u001b[38;5;241m=\u001b[39m\u001b[38;5;28;01mTrue\u001b[39;00m)\n\u001b[1;32m    451\u001b[0m     \u001b[38;5;28;01mif\u001b[39;00m device \u001b[38;5;241m<\u001b[39m \u001b[38;5;241m0\u001b[39m \u001b[38;5;129;01mor\u001b[39;00m device \u001b[38;5;241m>\u001b[39m\u001b[38;5;241m=\u001b[39m device_count():\n",
      "File \u001b[0;32m/home/adhikari/.conda/envs/semproc/lib/python3.10/site-packages/torch/cuda/__init__.py:298\u001b[0m, in \u001b[0;36m_lazy_init\u001b[0;34m()\u001b[0m\n\u001b[1;32m    296\u001b[0m \u001b[38;5;28;01mif\u001b[39;00m \u001b[38;5;124m\"\u001b[39m\u001b[38;5;124mCUDA_MODULE_LOADING\u001b[39m\u001b[38;5;124m\"\u001b[39m \u001b[38;5;129;01mnot\u001b[39;00m \u001b[38;5;129;01min\u001b[39;00m os\u001b[38;5;241m.\u001b[39menviron:\n\u001b[1;32m    297\u001b[0m     os\u001b[38;5;241m.\u001b[39menviron[\u001b[38;5;124m\"\u001b[39m\u001b[38;5;124mCUDA_MODULE_LOADING\u001b[39m\u001b[38;5;124m\"\u001b[39m] \u001b[38;5;241m=\u001b[39m \u001b[38;5;124m\"\u001b[39m\u001b[38;5;124mLAZY\u001b[39m\u001b[38;5;124m\"\u001b[39m\n\u001b[0;32m--> 298\u001b[0m \u001b[43mtorch\u001b[49m\u001b[38;5;241;43m.\u001b[39;49m\u001b[43m_C\u001b[49m\u001b[38;5;241;43m.\u001b[39;49m\u001b[43m_cuda_init\u001b[49m\u001b[43m(\u001b[49m\u001b[43m)\u001b[49m\n\u001b[1;32m    299\u001b[0m \u001b[38;5;66;03m# Some of the queued calls may reentrantly call _lazy_init();\u001b[39;00m\n\u001b[1;32m    300\u001b[0m \u001b[38;5;66;03m# we need to just return without initializing in that case.\u001b[39;00m\n\u001b[1;32m    301\u001b[0m \u001b[38;5;66;03m# However, we must not let any *other* threads in!\u001b[39;00m\n\u001b[1;32m    302\u001b[0m _tls\u001b[38;5;241m.\u001b[39mis_initializing \u001b[38;5;241m=\u001b[39m \u001b[38;5;28;01mTrue\u001b[39;00m\n",
      "\u001b[0;31mRuntimeError\u001b[0m: The NVIDIA driver on your system is too old (found version 11040). Please update your GPU driver by downloading and installing a new version from the URL: http://www.nvidia.com/Download/index.aspx Alternatively, go to: https://pytorch.org to install a PyTorch version that has been compiled with your version of the CUDA driver."
     ]
    }
   ],
   "source": [
    "torch.cuda.get_device_name(1)"
   ]
  },
  {
   "cell_type": "code",
   "execution_count": 12,
   "id": "838abd22-90f1-4bd0-ae2b-fde0f9c97320",
   "metadata": {},
   "outputs": [
    {
     "name": "stdout",
     "output_type": "stream",
     "text": [
      "Fri Jan 26 16:24:33 2024       \n",
      "+-----------------------------------------------------------------------------+\n",
      "| NVIDIA-SMI 470.103.01   Driver Version: 470.103.01   CUDA Version: 11.4     |\n",
      "|-------------------------------+----------------------+----------------------+\n",
      "| GPU  Name        Persistence-M| Bus-Id        Disp.A | Volatile Uncorr. ECC |\n",
      "| Fan  Temp  Perf  Pwr:Usage/Cap|         Memory-Usage | GPU-Util  Compute M. |\n",
      "|                               |                      |               MIG M. |\n",
      "|===============================+======================+======================|\n",
      "|   0  NVIDIA GeForce ...  Off  | 00000000:01:00.0 Off |                  N/A |\n",
      "| 54%   23C    P8    26W / 350W |      8MiB / 24268MiB |      0%      Default |\n",
      "|                               |                      |                  N/A |\n",
      "+-------------------------------+----------------------+----------------------+\n",
      "|   1  NVIDIA GeForce ...  Off  | 00000000:41:00.0 Off |                  N/A |\n",
      "| 50%   62C    P2   335W / 350W |  21181MiB / 24268MiB |     71%      Default |\n",
      "|                               |                      |                  N/A |\n",
      "+-------------------------------+----------------------+----------------------+\n",
      "|   2  NVIDIA GeForce ...  Off  | 00000000:81:00.0 Off |                  N/A |\n",
      "| 57%   22C    P8    32W / 350W |      8MiB / 24268MiB |      0%      Default |\n",
      "|                               |                      |                  N/A |\n",
      "+-------------------------------+----------------------+----------------------+\n",
      "|   3  NVIDIA GeForce ...  Off  | 00000000:C1:00.0 Off |                  N/A |\n",
      "| 52%   20C    P8    20W / 350W |      8MiB / 24268MiB |      0%      Default |\n",
      "|                               |                      |                  N/A |\n",
      "+-------------------------------+----------------------+----------------------+\n",
      "                                                                               \n",
      "+-----------------------------------------------------------------------------+\n",
      "| Processes:                                                                  |\n",
      "|  GPU   GI   CI        PID   Type   Process name                  GPU Memory |\n",
      "|        ID   ID                                                   Usage      |\n",
      "|=============================================================================|\n",
      "|    0   N/A  N/A      1274      G   /usr/lib/xorg/Xorg                  4MiB |\n",
      "|    1   N/A  N/A      1274      G   /usr/lib/xorg/Xorg                  4MiB |\n",
      "|    1   N/A  N/A   3021126      C   python                          21173MiB |\n",
      "|    2   N/A  N/A      1274      G   /usr/lib/xorg/Xorg                  4MiB |\n",
      "|    3   N/A  N/A      1274      G   /usr/lib/xorg/Xorg                  4MiB |\n",
      "+-----------------------------------------------------------------------------+\n"
     ]
    }
   ],
   "source": [
    "! nvidia-smi"
   ]
  },
  {
   "cell_type": "markdown",
   "id": "1b1f8981-2336-4e42-8578-2f1205302c60",
   "metadata": {},
   "source": [
    "Uninstalling the newer version, and re installing the older version 11.8"
   ]
  },
  {
   "cell_type": "code",
   "execution_count": 1,
   "id": "836b9161-5efc-44d5-bbfb-6de595f70a26",
   "metadata": {},
   "outputs": [
    {
     "name": "stdout",
     "output_type": "stream",
     "text": [
      "Found existing installation: torch 2.1.2\n",
      "Uninstalling torch-2.1.2:\n",
      "  Successfully uninstalled torch-2.1.2\n",
      "\u001b[33mWARNING: Skipping torchvision as it is not installed.\u001b[0m\u001b[33m\n",
      "\u001b[0m\u001b[33mWARNING: Skipping torchaudio as it is not installed.\u001b[0m\u001b[33m\n",
      "\u001b[0m"
     ]
    }
   ],
   "source": [
    "! pip uninstall torch torchvision torchaudio -y"
   ]
  },
  {
   "cell_type": "code",
   "execution_count": 3,
   "id": "35aa4bba-c169-49bc-b88a-51bfa641ae91",
   "metadata": {},
   "outputs": [
    {
     "name": "stdout",
     "output_type": "stream",
     "text": [
      "Looking in indexes: https://download.pytorch.org/whl/cu118\n",
      "Collecting torch\n",
      "  Downloading https://download.pytorch.org/whl/cu118/torch-2.1.2%2Bcu118-cp310-cp310-linux_x86_64.whl (2325.9 MB)\n",
      "\u001b[2K     \u001b[90m━━━━━━━━━━━━━━━━━━━━━━━━━━━━━━━━━━━━━━━━\u001b[0m \u001b[32m2.3/2.3 GB\u001b[0m \u001b[31m464.1 kB/s\u001b[0m eta \u001b[36m0:00:00\u001b[0m0:01\u001b[0mm00:01\u001b[0m\n",
      "\u001b[?25hRequirement already satisfied: filelock in /home/adhikari/.conda/envs/semproc/lib/python3.10/site-packages (from torch) (3.13.1)\n",
      "Requirement already satisfied: typing-extensions in /home/adhikari/.conda/envs/semproc/lib/python3.10/site-packages (from torch) (4.9.0)\n",
      "Requirement already satisfied: sympy in /home/adhikari/.conda/envs/semproc/lib/python3.10/site-packages (from torch) (1.12)\n",
      "Requirement already satisfied: networkx in /home/adhikari/.conda/envs/semproc/lib/python3.10/site-packages (from torch) (3.2.1)\n",
      "Requirement already satisfied: jinja2 in /home/adhikari/.conda/envs/semproc/lib/python3.10/site-packages (from torch) (3.1.2)\n",
      "Requirement already satisfied: fsspec in /home/adhikari/.conda/envs/semproc/lib/python3.10/site-packages (from torch) (2023.12.2)\n",
      "Requirement already satisfied: triton==2.1.0 in /home/adhikari/.conda/envs/semproc/lib/python3.10/site-packages (from torch) (2.1.0)\n",
      "Requirement already satisfied: MarkupSafe>=2.0 in /home/adhikari/.conda/envs/semproc/lib/python3.10/site-packages (from jinja2->torch) (2.1.3)\n",
      "Requirement already satisfied: mpmath>=0.19 in /home/adhikari/.conda/envs/semproc/lib/python3.10/site-packages (from sympy->torch) (1.3.0)\n",
      "Installing collected packages: torch\n",
      "Successfully installed torch-2.1.2+cu118\n"
     ]
    }
   ],
   "source": [
    "! pip install torch --index-url https://download.pytorch.org/whl/cu118"
   ]
  },
  {
   "cell_type": "code",
   "execution_count": 4,
   "id": "653b8ffa-8f04-439f-ae63-29150a0f30e0",
   "metadata": {},
   "outputs": [
    {
     "name": "stdout",
     "output_type": "stream",
     "text": [
      "The history saving thread hit an unexpected error (OperationalError('unable to open database file')).History will not be written to the database.\n"
     ]
    },
    {
     "name": "stderr",
     "output_type": "stream",
     "text": [
      "/home/adhikari/.conda/envs/semproc/lib/python3.10/site-packages/torch/nn/modules/transformer.py:20: UserWarning: Failed to initialize NumPy: No module named 'numpy' (Triggered internally at ../torch/csrc/utils/tensor_numpy.cpp:84.)\n",
      "  device: torch.device = torch.device(torch._C._get_default_device()),  # torch.device('cpu'),\n"
     ]
    },
    {
     "name": "stdout",
     "output_type": "stream",
     "text": [
      "Num GPUs Available:  4\n"
     ]
    }
   ],
   "source": [
    "import torch\n",
    "print(\"Num GPUs Available: \", torch.cuda.device_count())\n"
   ]
  },
  {
   "cell_type": "code",
   "execution_count": 5,
   "id": "8e9d83e6-5519-43d4-a8c2-a503ddb1396e",
   "metadata": {},
   "outputs": [
    {
     "name": "stdout",
     "output_type": "stream",
     "text": [
      "Number of available GPUs: 4\n",
      "GPU 1: NVIDIA GeForce RTX 3090\n",
      "  Total GPU Memory: 25.45 GB\n",
      "GPU 2: NVIDIA GeForce RTX 3090\n",
      "  Total GPU Memory: 25.45 GB\n",
      "GPU 3: NVIDIA GeForce RTX 3090\n",
      "  Total GPU Memory: 25.45 GB\n",
      "GPU 4: NVIDIA GeForce RTX 3090\n",
      "  Total GPU Memory: 25.45 GB\n"
     ]
    }
   ],
   "source": [
    "import torch\n",
    "\n",
    "# Check if CUDA (GPU support) is available\n",
    "if torch.cuda.is_available():\n",
    "    # Get the number of available GPUs\n",
    "    num_gpus = torch.cuda.device_count()\n",
    "\n",
    "    print(f\"Number of available GPUs: {num_gpus}\")\n",
    "\n",
    "    # Get information about each GPU\n",
    "    for i in range(num_gpus):\n",
    "        gpu_name = torch.cuda.get_device_name(i)\n",
    "        gpu_memory = torch.cuda.get_device_properties(i).total_memory / 1e9  # Convert bytes to gigabytes\n",
    "\n",
    "        print(f\"GPU {i + 1}: {gpu_name}\")\n",
    "        print(f\"  Total GPU Memory: {gpu_memory:.2f} GB\")\n",
    "\n",
    "    # Set the default device to the first GPU\n",
    "    torch.cuda.set_device(0)\n",
    "\n",
    "else:\n",
    "    print(\"CUDA (GPU) is not available on this system.\")\n"
   ]
  },
  {
   "cell_type": "code",
   "execution_count": null,
   "id": "d64fb3b5-3fd6-4995-b363-d1fb9cf66c7d",
   "metadata": {},
   "outputs": [],
   "source": []
  }
 ],
 "metadata": {
  "kernelspec": {
   "display_name": "Python 3 (ipykernel)",
   "language": "python",
   "name": "python3"
  },
  "language_info": {
   "codemirror_mode": {
    "name": "ipython",
    "version": 3
   },
   "file_extension": ".py",
   "mimetype": "text/x-python",
   "name": "python",
   "nbconvert_exporter": "python",
   "pygments_lexer": "ipython3",
   "version": "3.10.13"
  }
 },
 "nbformat": 4,
 "nbformat_minor": 5
}
